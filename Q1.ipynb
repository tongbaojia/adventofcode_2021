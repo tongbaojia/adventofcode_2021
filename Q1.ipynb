{
 "cells": [
  {
   "cell_type": "code",
   "execution_count": 1,
   "id": "61be3220",
   "metadata": {},
   "outputs": [],
   "source": [
    "with open('q1_input.txt') as f:\n",
    "    lines = f.readlines()"
   ]
  },
  {
   "cell_type": "code",
   "execution_count": 3,
   "id": "fc60a88b",
   "metadata": {},
   "outputs": [],
   "source": [
    "values = [int(i.strip()) for i in lines]"
   ]
  },
  {
   "cell_type": "code",
   "execution_count": 9,
   "id": "55d55b7b",
   "metadata": {},
   "outputs": [],
   "source": [
    "def count_increase(values):\n",
    "    ans = 0\n",
    "    for i, v in enumerate(values):\n",
    "        if i == 0:\n",
    "            continue\n",
    "        if v > values[i - 1]:\n",
    "            ans += 1\n",
    "    return ans"
   ]
  },
  {
   "cell_type": "code",
   "execution_count": 10,
   "id": "6d78b2c8",
   "metadata": {},
   "outputs": [
    {
     "data": {
      "text/plain": [
       "1446"
      ]
     },
     "execution_count": 10,
     "metadata": {},
     "output_type": "execute_result"
    }
   ],
   "source": [
    "count_increase(values)"
   ]
  },
  {
   "cell_type": "code",
   "execution_count": 11,
   "id": "fc1132f6",
   "metadata": {},
   "outputs": [],
   "source": [
    "def slide_increase(values):\n",
    "    ans = 0\n",
    "    for i, v in enumerate(values):\n",
    "        if i <= 2:\n",
    "            continue\n",
    "        else:\n",
    "            if v > values[i - 3]:\n",
    "                ans += 1\n",
    "    return ans"
   ]
  },
  {
   "cell_type": "code",
   "execution_count": 12,
   "id": "65b9085d",
   "metadata": {},
   "outputs": [
    {
     "data": {
      "text/plain": [
       "1486"
      ]
     },
     "execution_count": 12,
     "metadata": {},
     "output_type": "execute_result"
    }
   ],
   "source": [
    "slide_increase(values)"
   ]
  },
  {
   "cell_type": "code",
   "execution_count": null,
   "id": "49eaf1a4",
   "metadata": {},
   "outputs": [],
   "source": []
  }
 ],
 "metadata": {
  "kernelspec": {
   "display_name": "Python 3 (ipykernel)",
   "language": "python",
   "name": "python3"
  },
  "language_info": {
   "codemirror_mode": {
    "name": "ipython",
    "version": 3
   },
   "file_extension": ".py",
   "mimetype": "text/x-python",
   "name": "python",
   "nbconvert_exporter": "python",
   "pygments_lexer": "ipython3",
   "version": "3.9.6"
  }
 },
 "nbformat": 4,
 "nbformat_minor": 5
}
