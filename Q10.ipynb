{
 "cells": [
  {
   "cell_type": "markdown",
   "id": "6b58d0de",
   "metadata": {},
   "source": [
    "Day 10: https://adventofcode.com/2021/day/10"
   ]
  },
  {
   "cell_type": "code",
   "execution_count": 1,
   "id": "124cb51e",
   "metadata": {
    "ExecuteTime": {
     "end_time": "2021-12-10T14:38:10.686438Z",
     "start_time": "2021-12-10T14:38:10.683421Z"
    }
   },
   "outputs": [],
   "source": [
    "with open(\"q10_input.txt\", \"r\") as fp:\n",
    "    file_lines = fp.readlines()"
   ]
  },
  {
   "cell_type": "code",
   "execution_count": 2,
   "id": "a83aa041",
   "metadata": {
    "ExecuteTime": {
     "end_time": "2021-12-10T14:38:10.691578Z",
     "start_time": "2021-12-10T14:38:10.688434Z"
    }
   },
   "outputs": [],
   "source": [
    "lines = [l.strip() for l in file_lines]"
   ]
  },
  {
   "cell_type": "code",
   "execution_count": 3,
   "id": "99cf3421",
   "metadata": {
    "ExecuteTime": {
     "end_time": "2021-12-10T14:38:10.704427Z",
     "start_time": "2021-12-10T14:38:10.694703Z"
    }
   },
   "outputs": [
    {
     "data": {
      "text/plain": [
       "'{[<([<[[(<[({<<><>><()[]>}<(()())(())>)<(([]())){<()()><{}<>)}>][(((()<>)[{}{}]){<[]<>>({}{})})]>)[(({([{}[]]'"
      ]
     },
     "execution_count": 3,
     "metadata": {},
     "output_type": "execute_result"
    }
   ],
   "source": [
    "lines[0]"
   ]
  },
  {
   "cell_type": "code",
   "execution_count": 4,
   "id": "64662274",
   "metadata": {
    "ExecuteTime": {
     "end_time": "2021-12-10T14:38:10.711165Z",
     "start_time": "2021-12-10T14:38:10.706239Z"
    }
   },
   "outputs": [],
   "source": [
    "c_score ={\n",
    "    \"]\": 57, \"}\":1197, \")\":3, \">\":25137\n",
    "}\n",
    "c_match ={\n",
    "    \"]\": \"[\", \"}\":\"{\", \")\":\"(\", \">\":\"<\"\n",
    "}\n",
    "def cal_str_score(input_str):\n",
    "    stack = []\n",
    "    for c in input_str:\n",
    "        if c in c_score:\n",
    "            if stack[-1] != c_match[c]:\n",
    "                # print(input_str, c)\n",
    "                return c_score[c]\n",
    "            else:\n",
    "                stack.pop()\n",
    "        else:\n",
    "            stack.append(c)\n",
    "    # don't worry about the non-empty stack for now\n",
    "    return 0"
   ]
  },
  {
   "cell_type": "code",
   "execution_count": 5,
   "id": "ca484314",
   "metadata": {
    "ExecuteTime": {
     "end_time": "2021-12-10T14:38:10.717963Z",
     "start_time": "2021-12-10T14:38:10.713365Z"
    }
   },
   "outputs": [
    {
     "name": "stdout",
     "output_type": "stream",
     "text": [
      "294195\n"
     ]
    }
   ],
   "source": [
    "ans_1 = 0\n",
    "for l in lines:\n",
    "    ans_1 += cal_str_score(l)\n",
    "print(ans_1)"
   ]
  },
  {
   "cell_type": "code",
   "execution_count": 6,
   "id": "e8ef40f9",
   "metadata": {
    "ExecuteTime": {
     "end_time": "2021-12-10T14:38:10.724241Z",
     "start_time": "2021-12-10T14:38:10.719620Z"
    }
   },
   "outputs": [],
   "source": [
    "c_complete_score ={\n",
    "    \"[\": 2, \"{\":3, \"(\":1, \"<\":4\n",
    "}\n",
    "def cal_incomplete_str_score(input_str):\n",
    "    stack = []\n",
    "    for c in input_str:\n",
    "        if c in c_score:\n",
    "            if stack[-1] != c_match[c]:\n",
    "                # print(input_str, c)\n",
    "                return 0\n",
    "            else:\n",
    "                stack.pop()\n",
    "        else:\n",
    "            stack.append(c)\n",
    "    if len(stack) == 0:\n",
    "        return 0\n",
    "    else:\n",
    "        score = 0\n",
    "        # print(stack)\n",
    "        while stack:\n",
    "            c = stack.pop()\n",
    "            score = score * 5 + c_complete_score[c]\n",
    "        return score"
   ]
  },
  {
   "cell_type": "code",
   "execution_count": 7,
   "id": "92812b31",
   "metadata": {
    "ExecuteTime": {
     "end_time": "2021-12-10T14:38:10.731835Z",
     "start_time": "2021-12-10T14:38:10.726313Z"
    }
   },
   "outputs": [
    {
     "name": "stdout",
     "output_type": "stream",
     "text": [
      "[1326083, 1483081, 1702056, 6973932, 18340284, 24435188, 42107093, 192483112, 222397793, 387445542, 712729214, 1155780423, 1191149864, 1887732234, 2124914239, 2192871611, 2867965183, 2873963733, 3166933359, 3284587498, 3368866408, 3401787292, 3403430344, 3490802734, 3493660841, 4017008366, 4135696737, 4243962419, 4266249984, 4723254811, 4730232036, 5744824746, 5852167418, 5920898334, 7898185538, 8980027859, 10561697961, 14340842231, 16819332737, 18052311786, 19987635318, 20178504781, 21384514609, 26530726062, 28690435984, 29847230918, 29852544693] 47\n",
      "3490802734\n"
     ]
    }
   ],
   "source": [
    "incomplete_scores = []\n",
    "for l in lines:\n",
    "    score = cal_incomplete_str_score(l)\n",
    "    if score != 0:\n",
    "        incomplete_scores.append(score)\n",
    "incomplete_scores.sort()\n",
    "print(incomplete_scores, len(incomplete_scores))\n",
    "print(incomplete_scores[len(incomplete_scores) // 2])"
   ]
  },
  {
   "cell_type": "code",
   "execution_count": null,
   "id": "dd0e660e",
   "metadata": {},
   "outputs": [],
   "source": []
  }
 ],
 "metadata": {
  "kernelspec": {
   "display_name": "Python 3 (ipykernel)",
   "language": "python",
   "name": "python3"
  },
  "language_info": {
   "codemirror_mode": {
    "name": "ipython",
    "version": 3
   },
   "file_extension": ".py",
   "mimetype": "text/x-python",
   "name": "python",
   "nbconvert_exporter": "python",
   "pygments_lexer": "ipython3",
   "version": "3.9.6"
  }
 },
 "nbformat": 4,
 "nbformat_minor": 5
}
