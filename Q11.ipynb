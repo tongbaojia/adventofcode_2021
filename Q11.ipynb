{
 "cells": [
  {
   "cell_type": "code",
   "execution_count": 1,
   "id": "ada957b6",
   "metadata": {
    "ExecuteTime": {
     "end_time": "2021-12-12T05:17:58.724484Z",
     "start_time": "2021-12-12T05:17:58.721157Z"
    }
   },
   "outputs": [],
   "source": [
    "with open(\"q11_input.txt\", \"r\") as fp:\n",
    "    f_lines = fp.readlines()"
   ]
  },
  {
   "cell_type": "code",
   "execution_count": 2,
   "id": "e61efe89",
   "metadata": {
    "ExecuteTime": {
     "end_time": "2021-12-12T05:17:58.729347Z",
     "start_time": "2021-12-12T05:17:58.726189Z"
    }
   },
   "outputs": [],
   "source": [
    "grid = []\n",
    "for i in range(len(f_lines)):\n",
    "    row = [int(c) for c in f_lines[i].strip()]\n",
    "    grid.append(row)"
   ]
  },
  {
   "cell_type": "code",
   "execution_count": 3,
   "id": "214385d3",
   "metadata": {
    "ExecuteTime": {
     "end_time": "2021-12-12T05:17:58.735206Z",
     "start_time": "2021-12-12T05:17:58.732056Z"
    }
   },
   "outputs": [],
   "source": [
    "n_row = len(grid)\n",
    "n_col = len(grid[0])"
   ]
  },
  {
   "cell_type": "code",
   "execution_count": 4,
   "id": "44fdf1af",
   "metadata": {
    "ExecuteTime": {
     "end_time": "2021-12-12T05:17:58.740594Z",
     "start_time": "2021-12-12T05:17:58.737156Z"
    }
   },
   "outputs": [
    {
     "name": "stdout",
     "output_type": "stream",
     "text": [
      "[[7, 6, 1, 2, 6, 4, 8, 2, 1, 7], [7, 6, 1, 7, 2, 3, 7, 6, 7, 2], [2, 8, 5, 3, 8, 7, 1, 8, 3, 6], [7, 2, 1, 4, 3, 6, 7, 1, 3, 5], [1, 5, 3, 3, 3, 6, 5, 6, 1, 4], [6, 2, 5, 8, 1, 7, 2, 8, 6, 2], [5, 3, 7, 7, 6, 7, 5, 5, 8, 3], [5, 6, 1, 3, 2, 6, 8, 2, 7, 8], [8, 3, 8, 1, 1, 3, 4, 4, 6, 5], [3, 4, 4, 5, 4, 2, 8, 7, 3, 3]]\n"
     ]
    }
   ],
   "source": [
    "print(grid)"
   ]
  },
  {
   "cell_type": "code",
   "execution_count": 5,
   "id": "acdc65ac",
   "metadata": {
    "ExecuteTime": {
     "end_time": "2021-12-12T05:17:58.746395Z",
     "start_time": "2021-12-12T05:17:58.743106Z"
    }
   },
   "outputs": [],
   "source": [
    "from itertools import product"
   ]
  },
  {
   "cell_type": "code",
   "execution_count": 6,
   "id": "d9b37bcd",
   "metadata": {
    "ExecuteTime": {
     "end_time": "2021-12-12T05:17:58.752559Z",
     "start_time": "2021-12-12T05:17:58.748359Z"
    }
   },
   "outputs": [],
   "source": [
    "def flash(i, j):\n",
    "    # print(i, j, grid[i][j])\n",
    "    for d in product([-1, 0, 1], repeat=2):\n",
    "        new_i = i + d[0]\n",
    "        new_j = j + d[1]\n",
    "        # print(\"new\", new_i, new_j)\n",
    "        if 0 <= new_i < n_row and 0 <= new_j < n_col:\n",
    "            grid[new_i][new_j] += 1\n",
    "            "
   ]
  },
  {
   "cell_type": "code",
   "execution_count": 7,
   "id": "a17d77b8",
   "metadata": {
    "ExecuteTime": {
     "end_time": "2021-12-12T05:17:58.756965Z",
     "start_time": "2021-12-12T05:17:58.754403Z"
    }
   },
   "outputs": [],
   "source": [
    "from copy import deepcopy\n",
    "from collections import deque"
   ]
  },
  {
   "cell_type": "code",
   "execution_count": 8,
   "id": "1caadd29",
   "metadata": {
    "ExecuteTime": {
     "end_time": "2021-12-12T05:17:58.827976Z",
     "start_time": "2021-12-12T05:17:58.758754Z"
    }
   },
   "outputs": [
    {
     "name": "stdout",
     "output_type": "stream",
     "text": [
      "324 sync!\n"
     ]
    }
   ],
   "source": [
    "n_steps = 1000\n",
    "n_flash = 0\n",
    "for n_step in range(n_steps):\n",
    "    seen = set()\n",
    "    q = deque([])\n",
    "    for i in range(n_row):\n",
    "        for j in range(n_col):\n",
    "            grid[i][j] += 1\n",
    "            if grid[i][j] > 9:\n",
    "                q.append((i, j))\n",
    "                seen.add((i, j))\n",
    "    # print(q)\n",
    "    while q:\n",
    "        h = q.popleft()\n",
    "        seen.add(h)\n",
    "        i, j = h\n",
    "        for d in product([-1, 0, 1], repeat=2):\n",
    "            new_i = i + d[0]\n",
    "            new_j = j + d[1]\n",
    "            # print(\"new\", new_i, new_j)\n",
    "            if 0 <= new_i < n_row and 0 <= new_j < n_col:\n",
    "                grid[new_i][new_j] += 1\n",
    "                if grid[new_i][new_j] > 9 and (new_i, new_j) not in seen:\n",
    "                    q.append((new_i, new_j))\n",
    "                    seen.add((new_i, new_j))\n",
    "        # print(\"-->\", grid, q)\n",
    "\n",
    "    for i in range(n_row):\n",
    "        for j in range(n_col):\n",
    "            if grid[i][j] > 9:\n",
    "                n_flash += 1\n",
    "                grid[i][j] = 0\n",
    "\n",
    "    all_flag = True\n",
    "    for i in range(n_row):\n",
    "        for j in range(n_col):\n",
    "            if grid[i][j] != 0:\n",
    "                all_flag = False\n",
    "    if all_flag:\n",
    "        print(n_step + 1, \"sync!\")\n",
    "        break\n",
    "    # print(grid)\n",
    "    # break"
   ]
  },
  {
   "cell_type": "code",
   "execution_count": 9,
   "id": "e0a1bfe9",
   "metadata": {
    "ExecuteTime": {
     "end_time": "2021-12-12T05:17:58.840610Z",
     "start_time": "2021-12-12T05:17:58.831400Z"
    }
   },
   "outputs": [
    {
     "data": {
      "text/plain": [
       "5277"
      ]
     },
     "execution_count": 9,
     "metadata": {},
     "output_type": "execute_result"
    }
   ],
   "source": [
    "n_flash"
   ]
  },
  {
   "cell_type": "code",
   "execution_count": null,
   "id": "aad97e76",
   "metadata": {},
   "outputs": [],
   "source": []
  }
 ],
 "metadata": {
  "kernelspec": {
   "display_name": "Python 3 (ipykernel)",
   "language": "python",
   "name": "python3"
  },
  "language_info": {
   "codemirror_mode": {
    "name": "ipython",
    "version": 3
   },
   "file_extension": ".py",
   "mimetype": "text/x-python",
   "name": "python",
   "nbconvert_exporter": "python",
   "pygments_lexer": "ipython3",
   "version": "3.9.6"
  }
 },
 "nbformat": 4,
 "nbformat_minor": 5
}
