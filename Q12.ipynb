{
 "cells": [
  {
   "cell_type": "code",
   "execution_count": 1,
   "id": "215dcd24",
   "metadata": {
    "ExecuteTime": {
     "end_time": "2021-12-12T05:37:38.856551Z",
     "start_time": "2021-12-12T05:37:38.853528Z"
    }
   },
   "outputs": [],
   "source": [
    "with open(\"q12_input.txt\", \"r\") as fp:\n",
    "    f_lines = fp.readlines()"
   ]
  },
  {
   "cell_type": "code",
   "execution_count": 2,
   "id": "167e4d22",
   "metadata": {
    "ExecuteTime": {
     "end_time": "2021-12-12T05:37:38.861784Z",
     "start_time": "2021-12-12T05:37:38.858981Z"
    }
   },
   "outputs": [],
   "source": [
    "from collections import defaultdict, deque, Counter"
   ]
  },
  {
   "cell_type": "code",
   "execution_count": 3,
   "id": "f016550e",
   "metadata": {
    "ExecuteTime": {
     "end_time": "2021-12-12T05:37:38.866795Z",
     "start_time": "2021-12-12T05:37:38.863500Z"
    }
   },
   "outputs": [],
   "source": [
    "graph = defaultdict(set)"
   ]
  },
  {
   "cell_type": "code",
   "execution_count": 4,
   "id": "c02476be",
   "metadata": {
    "ExecuteTime": {
     "end_time": "2021-12-12T05:37:38.874233Z",
     "start_time": "2021-12-12T05:37:38.870253Z"
    }
   },
   "outputs": [],
   "source": [
    "for l in f_lines:\n",
    "    u, v = l.strip().split(\"-\")\n",
    "    graph[u].add(v)\n",
    "    graph[v].add(u)"
   ]
  },
  {
   "cell_type": "code",
   "execution_count": 5,
   "id": "807f3d67",
   "metadata": {
    "ExecuteTime": {
     "end_time": "2021-12-12T05:37:38.911852Z",
     "start_time": "2021-12-12T05:37:38.876609Z"
    }
   },
   "outputs": [
    {
     "name": "stdout",
     "output_type": "stream",
     "text": [
      "3856\n"
     ]
    }
   ],
   "source": [
    "n_paths = 0\n",
    "\n",
    "q = deque([[\"start\"]])\n",
    "\n",
    "while q:\n",
    "    h = q.popleft()\n",
    "    last_node = h[-1]\n",
    "    neighbors = graph[last_node]\n",
    "    for neighbor in neighbors:\n",
    "        # print(neighbor)\n",
    "        if neighbor == \"start\":\n",
    "            continue\n",
    "        elif neighbor == \"end\":\n",
    "            # print(\"finish\", h + [neighbor])\n",
    "            n_paths += 1\n",
    "            continue\n",
    "        elif neighbor.isupper() or neighbor not in h:\n",
    "            q.append(h + [neighbor])\n",
    "        else:\n",
    "            continue\n",
    "    # print(q)\n",
    "print(n_paths)"
   ]
  },
  {
   "cell_type": "code",
   "execution_count": 6,
   "id": "2b1182eb",
   "metadata": {
    "ExecuteTime": {
     "end_time": "2021-12-12T05:37:38.923990Z",
     "start_time": "2021-12-12T05:37:38.913675Z"
    }
   },
   "outputs": [
    {
     "data": {
      "text/plain": [
       "3856"
      ]
     },
     "execution_count": 6,
     "metadata": {},
     "output_type": "execute_result"
    }
   ],
   "source": [
    "n_paths"
   ]
  },
  {
   "cell_type": "code",
   "execution_count": 7,
   "id": "adb9b366",
   "metadata": {
    "ExecuteTime": {
     "end_time": "2021-12-12T05:37:41.533658Z",
     "start_time": "2021-12-12T05:37:38.925841Z"
    }
   },
   "outputs": [
    {
     "name": "stdout",
     "output_type": "stream",
     "text": [
      "116692\n"
     ]
    }
   ],
   "source": [
    "n_paths = 0\n",
    "\n",
    "q = deque([[\"start\"]])\n",
    "\n",
    "while q:\n",
    "    h = q.popleft()\n",
    "    small_counts = Counter([i for i in h if i != \"start\" and i.islower()])\n",
    "    last_node = h[-1]\n",
    "    neighbors = graph[last_node]\n",
    "    for neighbor in neighbors:\n",
    "        # print(neighbor)\n",
    "        if neighbor == \"start\":\n",
    "            continue\n",
    "        elif neighbor == \"end\":\n",
    "            # print(\"finish\", h + [neighbor])\n",
    "            n_paths += 1\n",
    "            continue\n",
    "        elif neighbor.isupper() or (\n",
    "            small_counts[neighbor] == 0\n",
    "            or (small_counts[neighbor] == 1 and max(small_counts.values()) < 2)\n",
    "        ):\n",
    "            q.append(h + [neighbor])\n",
    "        else:\n",
    "            continue\n",
    "    # print(q)\n",
    "print(n_paths)"
   ]
  },
  {
   "cell_type": "code",
   "execution_count": null,
   "id": "732d83d2",
   "metadata": {},
   "outputs": [],
   "source": []
  }
 ],
 "metadata": {
  "kernelspec": {
   "display_name": "Python 3 (ipykernel)",
   "language": "python",
   "name": "python3"
  },
  "language_info": {
   "codemirror_mode": {
    "name": "ipython",
    "version": 3
   },
   "file_extension": ".py",
   "mimetype": "text/x-python",
   "name": "python",
   "nbconvert_exporter": "python",
   "pygments_lexer": "ipython3",
   "version": "3.9.6"
  }
 },
 "nbformat": 4,
 "nbformat_minor": 5
}
