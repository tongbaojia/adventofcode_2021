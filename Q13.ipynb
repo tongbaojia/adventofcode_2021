{
 "cells": [
  {
   "cell_type": "markdown",
   "id": "4cfe20b1",
   "metadata": {},
   "source": [
    "# day 13: https://adventofcode.com/2021/day/13"
   ]
  },
  {
   "cell_type": "code",
   "execution_count": 1,
   "id": "f62a93d7",
   "metadata": {
    "ExecuteTime": {
     "end_time": "2021-12-13T06:52:53.234238Z",
     "start_time": "2021-12-13T06:52:53.231107Z"
    }
   },
   "outputs": [],
   "source": [
    "with open(\"q13_input.txt\", \"r\") as fp:\n",
    "    f_lines = fp.readlines()"
   ]
  },
  {
   "cell_type": "code",
   "execution_count": 2,
   "id": "087f058a",
   "metadata": {
    "ExecuteTime": {
     "end_time": "2021-12-13T06:52:53.242611Z",
     "start_time": "2021-12-13T06:52:53.236693Z"
    }
   },
   "outputs": [],
   "source": [
    "dots = set()\n",
    "folds = []\n",
    "for l in f_lines:\n",
    "    if \",\" in l:\n",
    "        dots.add(tuple(int(i) for i in l.strip().split(\",\")))\n",
    "    elif \"fold\" in l:\n",
    "        folds.append(l.strip().split()[-1].split(\"=\"))"
   ]
  },
  {
   "cell_type": "code",
   "execution_count": 3,
   "id": "6b0ba874",
   "metadata": {
    "ExecuteTime": {
     "end_time": "2021-12-13T06:52:53.249242Z",
     "start_time": "2021-12-13T06:52:53.246355Z"
    }
   },
   "outputs": [],
   "source": [
    "# dots, folds"
   ]
  },
  {
   "cell_type": "code",
   "execution_count": 4,
   "id": "d39a1c76",
   "metadata": {
    "ExecuteTime": {
     "end_time": "2021-12-13T06:52:53.259381Z",
     "start_time": "2021-12-13T06:52:53.252538Z"
    }
   },
   "outputs": [],
   "source": [
    "def fold_page(page, d, pos):\n",
    "    new_page = set()\n",
    "    for dot in page:\n",
    "        x, y = dot\n",
    "        if d == \"x\":\n",
    "            if x < pos:\n",
    "                pass\n",
    "            elif x == pos:\n",
    "                print(\"WTF\")\n",
    "            else:\n",
    "                x = 2 * pos - x\n",
    "        elif d == \"y\":\n",
    "            if y < pos:\n",
    "                pass\n",
    "            elif y == pos:\n",
    "                print(\"WTF\")\n",
    "            else:\n",
    "                y = 2 * pos - y\n",
    "        new_page.add((x, y))\n",
    "    return new_page"
   ]
  },
  {
   "cell_type": "code",
   "execution_count": 5,
   "id": "97af4078",
   "metadata": {
    "ExecuteTime": {
     "end_time": "2021-12-13T06:52:53.266001Z",
     "start_time": "2021-12-13T06:52:53.261532Z"
    }
   },
   "outputs": [
    {
     "name": "stdout",
     "output_type": "stream",
     "text": [
      "['x', '655']\n",
      "790\n"
     ]
    }
   ],
   "source": [
    "for fold in folds[:1]:\n",
    "    print(fold)\n",
    "    d, pos = fold\n",
    "    pos = int(pos)\n",
    "    new_dots = fold_page(dots, d, pos)\n",
    "    print(len(new_dots))"
   ]
  },
  {
   "cell_type": "code",
   "execution_count": 6,
   "id": "7b4b7fcb",
   "metadata": {
    "ExecuteTime": {
     "end_time": "2021-12-13T06:52:53.274682Z",
     "start_time": "2021-12-13T06:52:53.267709Z"
    }
   },
   "outputs": [
    {
     "name": "stdout",
     "output_type": "stream",
     "text": [
      "['x', '655']\n",
      "790\n",
      "['y', '447']\n",
      "660\n",
      "['x', '327']\n",
      "539\n",
      "['y', '223']\n",
      "453\n",
      "['x', '163']\n",
      "382\n",
      "['y', '111']\n",
      "314\n",
      "['x', '81']\n",
      "266\n",
      "['y', '55']\n",
      "219\n",
      "['x', '40']\n",
      "184\n",
      "['y', '27']\n",
      "148\n",
      "['y', '13']\n",
      "116\n",
      "['y', '6']\n",
      "96\n"
     ]
    }
   ],
   "source": [
    "for fold in folds:\n",
    "    print(fold)\n",
    "    d, pos = fold\n",
    "    pos = int(pos)\n",
    "    new_dots = fold_page(dots, d, pos)\n",
    "    print(len(new_dots))\n",
    "    dots = new_dots"
   ]
  },
  {
   "cell_type": "code",
   "execution_count": 7,
   "id": "226bf472",
   "metadata": {
    "ExecuteTime": {
     "end_time": "2021-12-13T06:52:53.282629Z",
     "start_time": "2021-12-13T06:52:53.276591Z"
    }
   },
   "outputs": [
    {
     "name": "stdout",
     "output_type": "stream",
     "text": [
      "$  $  $           $  $        $        $     $  $  $  $     $  $  $        $  $  $  $           $  $        $  $     \n",
      "$        $     $        $     $        $              $     $        $     $                       $     $        $  \n",
      "$        $     $              $  $  $  $           $        $  $  $        $  $  $                 $     $           \n",
      "$  $  $        $     $  $     $        $        $           $        $     $                       $     $           \n",
      "$              $        $     $        $     $              $        $     $              $        $     $        $  \n",
      "$                 $  $  $     $        $     $  $  $  $     $  $  $        $                 $  $           $  $     \n"
     ]
    }
   ],
   "source": [
    "# the +1 is important so we won't miss the bound\n",
    "max_i = max(i for i, _ in dots) + 1  \n",
    "max_j = max(j for _, j in dots) + 1\n",
    "\n",
    "# err, j is a really bad variable name\n",
    "# it is vertical, so have to iterate through the rows first\n",
    "for j in range(max_j):\n",
    "    row = \"\"\n",
    "    for i in range(max_i):\n",
    "        if (i, j) not in dots:\n",
    "            row += \" \"\n",
    "        else:\n",
    "            row += \"$\"\n",
    "        # for the health of your eye\n",
    "        row += \"  \"\n",
    "    print(row)"
   ]
  },
  {
   "cell_type": "code",
   "execution_count": null,
   "id": "558fa34c",
   "metadata": {},
   "outputs": [],
   "source": []
  }
 ],
 "metadata": {
  "kernelspec": {
   "display_name": "Python 3 (ipykernel)",
   "language": "python",
   "name": "python3"
  },
  "language_info": {
   "codemirror_mode": {
    "name": "ipython",
    "version": 3
   },
   "file_extension": ".py",
   "mimetype": "text/x-python",
   "name": "python",
   "nbconvert_exporter": "python",
   "pygments_lexer": "ipython3",
   "version": "3.9.6"
  }
 },
 "nbformat": 4,
 "nbformat_minor": 5
}
