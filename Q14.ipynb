{
 "cells": [
  {
   "cell_type": "markdown",
   "id": "390c9c72",
   "metadata": {},
   "source": [
    "# day 14: https://adventofcode.com/2021/day/14"
   ]
  },
  {
   "cell_type": "code",
   "execution_count": 1,
   "id": "585a6e94",
   "metadata": {
    "ExecuteTime": {
     "end_time": "2021-12-15T03:23:43.824840Z",
     "start_time": "2021-12-15T03:23:43.820932Z"
    }
   },
   "outputs": [],
   "source": [
    "from collections import Counter, defaultdict"
   ]
  },
  {
   "cell_type": "code",
   "execution_count": 2,
   "id": "2f6f23e3",
   "metadata": {
    "ExecuteTime": {
     "end_time": "2021-12-15T03:23:43.830016Z",
     "start_time": "2021-12-15T03:23:43.827126Z"
    }
   },
   "outputs": [],
   "source": [
    "with open(\"q14_input.txt\", \"r\") as fp:\n",
    "    f_lines = fp.readlines()"
   ]
  },
  {
   "cell_type": "code",
   "execution_count": 3,
   "id": "c681e679",
   "metadata": {
    "ExecuteTime": {
     "end_time": "2021-12-15T03:23:43.837598Z",
     "start_time": "2021-12-15T03:23:43.833705Z"
    }
   },
   "outputs": [],
   "source": [
    "state = f_lines[0].strip()\n",
    "rules = {}\n",
    "for l in f_lines[2:]:\n",
    "    comb, insert = l.split(\"->\")\n",
    "    comb = comb.strip()\n",
    "    insert = insert.strip()\n",
    "    rules[comb] = insert"
   ]
  },
  {
   "cell_type": "code",
   "execution_count": 4,
   "id": "8c49f0ac",
   "metadata": {
    "ExecuteTime": {
     "end_time": "2021-12-15T03:23:43.843371Z",
     "start_time": "2021-12-15T03:23:43.839173Z"
    }
   },
   "outputs": [],
   "source": [
    "def step(state):\n",
    "    result = []\n",
    "    for i in range(len(state) - 1):\n",
    "        comb = state[i : i + 2]\n",
    "        if comb in rules:\n",
    "            # print(comb)\n",
    "            result.append(comb[0])\n",
    "            result.append(rules[comb])\n",
    "        else:\n",
    "            result.append(comb[0])\n",
    "    result.append(state[-1])\n",
    "    return \"\".join(result)"
   ]
  },
  {
   "cell_type": "code",
   "execution_count": 5,
   "id": "863c25af",
   "metadata": {
    "ExecuteTime": {
     "end_time": "2021-12-15T03:23:43.862600Z",
     "start_time": "2021-12-15T03:23:43.845148Z"
    }
   },
   "outputs": [
    {
     "name": "stdout",
     "output_type": "stream",
     "text": [
      "CPU times: user 10.7 ms, sys: 1.03 ms, total: 11.7 ms\n",
      "Wall time: 11.8 ms\n"
     ]
    }
   ],
   "source": [
    "%%time\n",
    "n_steps = 10\n",
    "for _ in range(n_steps):\n",
    "    state = step(state)"
   ]
  },
  {
   "cell_type": "code",
   "execution_count": 6,
   "id": "60ec50d0",
   "metadata": {
    "ExecuteTime": {
     "end_time": "2021-12-15T03:23:43.867174Z",
     "start_time": "2021-12-15T03:23:43.864234Z"
    }
   },
   "outputs": [],
   "source": [
    "from collections import Counter"
   ]
  },
  {
   "cell_type": "code",
   "execution_count": 7,
   "id": "dbe37df0",
   "metadata": {
    "ExecuteTime": {
     "end_time": "2021-12-15T03:23:43.882623Z",
     "start_time": "2021-12-15T03:23:43.868996Z"
    }
   },
   "outputs": [],
   "source": [
    "c = Counter(i for i in state)"
   ]
  },
  {
   "cell_type": "code",
   "execution_count": 8,
   "id": "3bb6111e",
   "metadata": {
    "ExecuteTime": {
     "end_time": "2021-12-15T03:23:43.889552Z",
     "start_time": "2021-12-15T03:23:43.884993Z"
    }
   },
   "outputs": [
    {
     "name": "stdout",
     "output_type": "stream",
     "text": [
      "2937\n"
     ]
    }
   ],
   "source": [
    "counts = c.most_common()\n",
    "print(counts[0][1] - counts[-1][1])"
   ]
  },
  {
   "cell_type": "markdown",
   "id": "877c557e",
   "metadata": {},
   "source": [
    "# reload"
   ]
  },
  {
   "cell_type": "code",
   "execution_count": 9,
   "id": "5a5f24cb",
   "metadata": {
    "ExecuteTime": {
     "end_time": "2021-12-15T03:23:43.897559Z",
     "start_time": "2021-12-15T03:23:43.894188Z"
    }
   },
   "outputs": [],
   "source": [
    "state = f_lines[0].strip()\n",
    "rules = {}\n",
    "for l in f_lines[2:]:\n",
    "    comb, insert = l.split(\"->\")\n",
    "    comb = comb.strip()\n",
    "    insert = insert.strip()\n",
    "    rules[comb] = insert"
   ]
  },
  {
   "cell_type": "code",
   "execution_count": 10,
   "id": "7335107a",
   "metadata": {
    "ExecuteTime": {
     "end_time": "2021-12-15T03:23:43.904035Z",
     "start_time": "2021-12-15T03:23:43.899840Z"
    }
   },
   "outputs": [],
   "source": [
    "original_double_states = defaultdict(int)\n",
    "for i in range(len(state) - 1):\n",
    "    comb = state[i: i + 2]\n",
    "    original_double_states[comb] += 1\n",
    "\n",
    "double_state_convert_map = {}\n",
    "for k, v in rules.items():\n",
    "    h, t = k\n",
    "    double_state_convert_map[k] = (h + v, v + t)"
   ]
  },
  {
   "cell_type": "code",
   "execution_count": 11,
   "id": "9dc1c89b",
   "metadata": {
    "ExecuteTime": {
     "end_time": "2021-12-15T03:23:43.910303Z",
     "start_time": "2021-12-15T03:23:43.906521Z"
    }
   },
   "outputs": [],
   "source": [
    "def state_counts(state_dict: dict):\n",
    "    new_state = defaultdict(int)\n",
    "    for k, v in state_dict.items():\n",
    "        if k in double_state_convert_map:\n",
    "            k1, k2 = double_state_convert_map[k]\n",
    "            new_state[k1] += v\n",
    "            new_state[k2] += v\n",
    "        else:\n",
    "            new_state[k] += v\n",
    "    return new_state"
   ]
  },
  {
   "cell_type": "code",
   "execution_count": 12,
   "id": "848cacb0",
   "metadata": {
    "ExecuteTime": {
     "end_time": "2021-12-15T03:23:43.916248Z",
     "start_time": "2021-12-15T03:23:43.912011Z"
    }
   },
   "outputs": [],
   "source": [
    "n_steps = 40\n",
    "double_states = original_double_states\n",
    "for _ in range(n_steps):\n",
    "    double_states = state_counts(double_states)"
   ]
  },
  {
   "cell_type": "code",
   "execution_count": 13,
   "id": "ba7c77ab",
   "metadata": {
    "ExecuteTime": {
     "end_time": "2021-12-15T03:23:43.921284Z",
     "start_time": "2021-12-15T03:23:43.918006Z"
    }
   },
   "outputs": [],
   "source": [
    "c = Counter()\n",
    "for k, v in double_states.items():\n",
    "    c[k[0]] += v\n",
    "    c[k[1]] += v\n",
    "# devil's trick to map it to original, since we double counted everything excep the start and end\n",
    "c[state[0]] += 1\n",
    "c[state[-1]] += 1"
   ]
  },
  {
   "cell_type": "code",
   "execution_count": 14,
   "id": "c7229dbe",
   "metadata": {
    "ExecuteTime": {
     "end_time": "2021-12-15T03:23:43.926913Z",
     "start_time": "2021-12-15T03:23:43.922984Z"
    }
   },
   "outputs": [
    {
     "name": "stdout",
     "output_type": "stream",
     "text": [
      "3390034818249.0\n"
     ]
    }
   ],
   "source": [
    "counts = c.most_common()\n",
    "print((counts[0][1] - counts[-1][1]) / 2)"
   ]
  },
  {
   "cell_type": "code",
   "execution_count": null,
   "id": "6af0cd21",
   "metadata": {},
   "outputs": [],
   "source": []
  }
 ],
 "metadata": {
  "kernelspec": {
   "display_name": "Python 3 (ipykernel)",
   "language": "python",
   "name": "python3"
  },
  "language_info": {
   "codemirror_mode": {
    "name": "ipython",
    "version": 3
   },
   "file_extension": ".py",
   "mimetype": "text/x-python",
   "name": "python",
   "nbconvert_exporter": "python",
   "pygments_lexer": "ipython3",
   "version": "3.9.6"
  }
 },
 "nbformat": 4,
 "nbformat_minor": 5
}
