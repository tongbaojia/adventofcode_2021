{
 "cells": [
  {
   "cell_type": "code",
   "execution_count": 1,
   "id": "96e43c7f",
   "metadata": {
    "ExecuteTime": {
     "end_time": "2021-12-15T08:03:18.673664Z",
     "start_time": "2021-12-15T08:03:18.670825Z"
    }
   },
   "outputs": [],
   "source": [
    "with open(\"q15_input.txt\", \"r\") as fp:\n",
    "    f_lines = fp.readlines()"
   ]
  },
  {
   "cell_type": "code",
   "execution_count": 2,
   "id": "0ab1da0d",
   "metadata": {
    "ExecuteTime": {
     "end_time": "2021-12-15T08:03:18.682313Z",
     "start_time": "2021-12-15T08:03:18.675501Z"
    }
   },
   "outputs": [],
   "source": [
    "grid = []\n",
    "for l in f_lines:\n",
    "    row = []\n",
    "    for c in l.strip():\n",
    "        row.append(int(c))\n",
    "    grid.append(row)"
   ]
  },
  {
   "cell_type": "markdown",
   "id": "fc031d18",
   "metadata": {},
   "source": [
    "# Dijkstra?! "
   ]
  },
  {
   "cell_type": "code",
   "execution_count": 3,
   "id": "858615d6",
   "metadata": {
    "ExecuteTime": {
     "end_time": "2021-12-15T08:03:18.691437Z",
     "start_time": "2021-12-15T08:03:18.685022Z"
    }
   },
   "outputs": [],
   "source": [
    "from functools import lru_cache\n",
    "import heapq\n",
    "from collections import deque\n",
    "\n",
    "\n",
    "def find_cost_given_grid(grid):\n",
    "    costs = {}\n",
    "    q = [(0, 0, 0)]\n",
    "    n_rows = len(grid)\n",
    "    n_cols = len(grid[0])\n",
    "    heapq.heapify(q)  # cost, i, j\n",
    "    target = (n_rows - 1, n_cols - 1)\n",
    "    while target not in costs:\n",
    "        c, i, j = heapq.heappop(q)\n",
    "        # print(costs, q)\n",
    "        for d in [(0, 1), (1, 0), (0, -1), (-1, 0)]:\n",
    "            new_i = i + d[0]\n",
    "            new_j = j + d[1]\n",
    "            if 0 <= new_i < n_rows and 0 <= new_j < n_cols:\n",
    "                if (new_i, new_j) not in costs:\n",
    "                    costs[(new_i, new_j)] = grid[new_i][new_j] + c\n",
    "                    heapq.heappush(q, (grid[new_i][new_j] + c, new_i, new_j))\n",
    "    return costs[target]"
   ]
  },
  {
   "cell_type": "code",
   "execution_count": 4,
   "id": "6aed54d2",
   "metadata": {
    "ExecuteTime": {
     "end_time": "2021-12-15T08:03:18.730608Z",
     "start_time": "2021-12-15T08:03:18.693511Z"
    }
   },
   "outputs": [
    {
     "data": {
      "text/plain": [
       "388"
      ]
     },
     "execution_count": 4,
     "metadata": {},
     "output_type": "execute_result"
    }
   ],
   "source": [
    "find_cost_given_grid(grid)"
   ]
  },
  {
   "cell_type": "markdown",
   "id": "0512ea7c",
   "metadata": {},
   "source": [
    "# Augment"
   ]
  },
  {
   "cell_type": "code",
   "execution_count": 5,
   "id": "7af71d7c",
   "metadata": {
    "ExecuteTime": {
     "end_time": "2021-12-15T08:03:18.741630Z",
     "start_time": "2021-12-15T08:03:18.732435Z"
    }
   },
   "outputs": [],
   "source": [
    "aug_grid = []\n",
    "for row in grid:\n",
    "    new_row = []\n",
    "    last_row = row\n",
    "    for i in range(5):\n",
    "        new_row.extend(last_row)\n",
    "        last_row = [(i + 1) if i + 1 < 10 else 1 for i in last_row]\n",
    "    aug_grid.append(new_row)"
   ]
  },
  {
   "cell_type": "code",
   "execution_count": 6,
   "id": "101bfec3",
   "metadata": {
    "ExecuteTime": {
     "end_time": "2021-12-15T08:03:18.768991Z",
     "start_time": "2021-12-15T08:03:18.743304Z"
    }
   },
   "outputs": [],
   "source": [
    "final_grid = []\n",
    "inc_grid = aug_grid\n",
    "for i in range(5):\n",
    "    final_grid.extend(inc_grid)\n",
    "    new_inc_grid = []\n",
    "    for row in inc_grid:\n",
    "        new_row = [(i + 1) if i + 1 < 10 else 1 for i in row]\n",
    "        new_inc_grid.append(new_row)\n",
    "    inc_grid = new_inc_grid"
   ]
  },
  {
   "cell_type": "code",
   "execution_count": 7,
   "id": "8acb4bca",
   "metadata": {
    "ExecuteTime": {
     "end_time": "2021-12-15T08:03:19.448222Z",
     "start_time": "2021-12-15T08:03:18.770247Z"
    }
   },
   "outputs": [
    {
     "data": {
      "text/plain": [
       "2819"
      ]
     },
     "execution_count": 7,
     "metadata": {},
     "output_type": "execute_result"
    }
   ],
   "source": [
    "find_cost_given_grid(final_grid)"
   ]
  },
  {
   "cell_type": "code",
   "execution_count": null,
   "id": "0bff649b",
   "metadata": {},
   "outputs": [],
   "source": []
  }
 ],
 "metadata": {
  "kernelspec": {
   "display_name": "Python 3 (ipykernel)",
   "language": "python",
   "name": "python3"
  },
  "language_info": {
   "codemirror_mode": {
    "name": "ipython",
    "version": 3
   },
   "file_extension": ".py",
   "mimetype": "text/x-python",
   "name": "python",
   "nbconvert_exporter": "python",
   "pygments_lexer": "ipython3",
   "version": "3.9.6"
  }
 },
 "nbformat": 4,
 "nbformat_minor": 5
}
