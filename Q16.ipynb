{
 "cells": [
  {
   "cell_type": "code",
   "execution_count": 6,
   "id": "84a7ede3",
   "metadata": {
    "ExecuteTime": {
     "end_time": "2021-12-16T23:46:21.251380Z",
     "start_time": "2021-12-16T23:46:21.248242Z"
    }
   },
   "outputs": [],
   "source": [
    "with open(\"q16_input.txt\", \"r\") as fp:\n",
    "    f_lines = fp.readlines()"
   ]
  },
  {
   "cell_type": "code",
   "execution_count": 7,
   "id": "46413273",
   "metadata": {
    "ExecuteTime": {
     "end_time": "2021-12-16T23:46:21.411241Z",
     "start_time": "2021-12-16T23:46:21.408750Z"
    }
   },
   "outputs": [],
   "source": [
    "input_str = f_lines[0].strip()"
   ]
  },
  {
   "cell_type": "code",
   "execution_count": null,
   "id": "d1c52d3c",
   "metadata": {
    "ExecuteTime": {
     "end_time": "2021-12-16T23:46:05.046886Z",
     "start_time": "2021-12-16T23:46:05.046876Z"
    }
   },
   "outputs": [],
   "source": [
    "input_str"
   ]
  },
  {
   "cell_type": "code",
   "execution_count": null,
   "id": "ee435a16",
   "metadata": {
    "ExecuteTime": {
     "end_time": "2021-12-16T23:46:05.047926Z",
     "start_time": "2021-12-16T23:46:05.047911Z"
    }
   },
   "outputs": [],
   "source": [
    "conv_map = {\n",
    "    \"0\" : \"0000\",\n",
    "    \"1\" : \"0001\",\n",
    "    \"2\" : \"0010\",\n",
    "    \"3\" : \"0011\",\n",
    "    \"4\" : \"0100\",\n",
    "    \"5\" : \"0101\",\n",
    "    \"6\" : \"0110\",\n",
    "    \"7\" : \"0111\",\n",
    "    \"8\" : \"1000\",\n",
    "    \"9\" : \"1001\",\n",
    "    \"A\" : \"1010\",\n",
    "    \"B\" : \"1011\",\n",
    "    \"C\" : \"1100\",\n",
    "    \"D\" : \"1101\",\n",
    "    \"E\" : \"1110\",\n",
    "    \"F\" : \"1111\",\n",
    "}\n"
   ]
  },
  {
   "cell_type": "code",
   "execution_count": null,
   "id": "57842597",
   "metadata": {
    "ExecuteTime": {
     "end_time": "2021-12-16T23:46:05.048906Z",
     "start_time": "2021-12-16T23:46:05.048891Z"
    }
   },
   "outputs": [],
   "source": [
    "conv_str = \"\"\n",
    "for c in input_str:\n",
    "    conv_str += conv_map[c]"
   ]
  },
  {
   "cell_type": "code",
   "execution_count": null,
   "id": "31338265",
   "metadata": {
    "ExecuteTime": {
     "end_time": "2021-12-16T23:46:05.049780Z",
     "start_time": "2021-12-16T23:46:05.049769Z"
    }
   },
   "outputs": [],
   "source": [
    "conv_str = \"00111000000000000110111101000101001010010001001000000000\""
   ]
  },
  {
   "cell_type": "code",
   "execution_count": null,
   "id": "cb1aa14f",
   "metadata": {
    "ExecuteTime": {
     "end_time": "2021-12-16T23:46:05.050972Z",
     "start_time": "2021-12-16T23:46:05.050960Z"
    }
   },
   "outputs": [],
   "source": [
    "mask = \"VVVTTTILLLLLLLLLLLLLLLAAAAAAAAAAABBBBBBBBBBBBBBBB\""
   ]
  },
  {
   "cell_type": "code",
   "execution_count": null,
   "id": "3d5695f5",
   "metadata": {
    "ExecuteTime": {
     "end_time": "2021-12-16T23:46:05.052178Z",
     "start_time": "2021-12-16T23:46:05.052165Z"
    }
   },
   "outputs": [],
   "source": [
    "from collections import deque"
   ]
  },
  {
   "cell_type": "code",
   "execution_count": null,
   "id": "8d639260",
   "metadata": {
    "ExecuteTime": {
     "end_time": "2021-12-16T23:46:05.053053Z",
     "start_time": "2021-12-16T23:46:05.053041Z"
    }
   },
   "outputs": [],
   "source": [
    "def parse_packet(i_start, i_end):\n",
    "    packet = conv_str[i_start:i_end]\n",
    "    stack = []\n",
    "    i = 0\n",
    "    actions = deque([(3, \"v\"), (3, \"id\")])\n",
    "    while i < len(conv_str):\n",
    "        step, step_type = actions.popleft()\n",
    "        output = conv_str[i: i + step]\n",
    "        decode_output = int(output, 2)\n",
    "        stack.append((decode_output, step_type))\n",
    "        if step_type == \"id\":\n",
    "            if decode_output == 4:\n",
    "                # literal value\n",
    "                pass\n",
    "            else:\n",
    "                actions.append((1, \"l\"))\n",
    "        elif step_type == \"l\":\n",
    "            if decode_output == 0:\n",
    "                actions.append((15, \"n\"))\n",
    "            elif decode_output == 1:\n",
    "                actions.append((11, \"n\"))\n",
    "        elif step_type == \"n\":\n",
    "            for _ in range(stack[-1][0]):\n",
    "                print(step)\n",
    "                actions.append((step, \"number\"))\n",
    "    return stack"
   ]
  },
  {
   "cell_type": "code",
   "execution_count": null,
   "id": "3ffd102e",
   "metadata": {
    "ExecuteTime": {
     "end_time": "2021-12-16T23:46:05.054122Z",
     "start_time": "2021-12-16T23:46:05.054109Z"
    }
   },
   "outputs": [],
   "source": [
    "stack = []\n",
    "i = 0\n",
    "actions = deque([(3, \"v\"), (3, \"id\")])\n",
    "while i < len(conv_str):\n",
    "    step, step_type = actions.popleft()\n",
    "    output = conv_str[i: i + step]\n",
    "    decode_output = int(output, 2)\n",
    "    stack.append((decode_output, step_type))\n",
    "    if step_type == \"id\":\n",
    "        if decode_output == 4:\n",
    "            # literal value\n",
    "            pass\n",
    "        else:\n",
    "            actions.append((1, \"l\"))\n",
    "    elif step_type == \"l\":\n",
    "        if decode_output == 0:\n",
    "            actions.append((15, \"n\"))\n",
    "        elif decode_output == 1:\n",
    "            actions.append((11, \"n\"))\n",
    "    elif step_type == \"n\":\n",
    "        for _ in range(stack[-1][0]):\n",
    "            print(step)\n",
    "            actions.append((step, \"number\"))\n",
    "    print(mask[i: i + step], conv_str[i: i + step])\n",
    "    i = i + step"
   ]
  },
  {
   "cell_type": "code",
   "execution_count": null,
   "id": "7d09dd99",
   "metadata": {
    "ExecuteTime": {
     "end_time": "2021-12-16T23:46:05.055160Z",
     "start_time": "2021-12-16T23:46:05.055144Z"
    }
   },
   "outputs": [],
   "source": [
    "stack"
   ]
  },
  {
   "cell_type": "markdown",
   "id": "f75bb2f9",
   "metadata": {},
   "source": [
    "# I GIVE UP after an hour\n",
    "# CHEATED: https://github.com/mebeim/aoc/blob/master/2021/solutions/day16.py"
   ]
  },
  {
   "cell_type": "code",
   "execution_count": 11,
   "id": "4d5c07ea",
   "metadata": {
    "ExecuteTime": {
     "end_time": "2021-12-16T23:46:51.541444Z",
     "start_time": "2021-12-16T23:46:51.529744Z"
    }
   },
   "outputs": [],
   "source": [
    "class Bitstream:\n",
    "\tdef __init__(self, file):\n",
    "\t\trawdata = bytes.fromhex(file)\n",
    "\t\tself.bits = ''.join(map('{:08b}'.format, rawdata))\n",
    "\t\tself.pos = 0\n",
    "\n",
    "\tdef decode_int(self, nbits):\n",
    "\t\tres = int(self.bits[self.pos:self.pos + nbits], 2)\n",
    "\t\tself.pos += nbits\n",
    "\t\treturn res\n",
    "\n",
    "\tdef decode_n_packets(self, n):\n",
    "\t\treturn [self.decode_one_packet() for _ in range(n)]\n",
    "\n",
    "\tdef decode_len_packets(self, length):\n",
    "\t\tend = self.pos + length\n",
    "\t\tpkts = []\n",
    "\n",
    "\t\twhile self.pos < end:\n",
    "\t\t\tpkts.append(self.decode_one_packet())\n",
    "\n",
    "\t\treturn pkts\n",
    "\n",
    "\tdef decode_value_data(self):\n",
    "\t\tvalue = 0\n",
    "\t\tgroup = 0b10000\n",
    "\n",
    "\t\twhile group & 0b10000:\n",
    "\t\t\tgroup = self.decode_int(5)\n",
    "\t\t\tvalue = (value << 4) + (group & 0b1111)\n",
    "\n",
    "\t\treturn value\n",
    "\n",
    "\tdef decode_operator_data(self):\n",
    "\t\tif self.decode_int(1):\n",
    "\t\t\treturn self.decode_n_packets(self.decode_int(11))\n",
    "\t\treturn self.decode_len_packets(self.decode_int(15))\n",
    "\n",
    "\tdef decode_packet_data(self, tid):\n",
    "\t\tif tid == 4:\n",
    "\t\t\treturn self.decode_value_data()\n",
    "\t\treturn self.decode_operator_data()\n",
    "\n",
    "\tdef decode_one_packet(self):\n",
    "\t\tversion = self.decode_int(3)\n",
    "\t\ttid     = self.decode_int(3)\n",
    "\t\tdata    = self.decode_packet_data(tid)\n",
    "\t\treturn (version, tid, data)\n",
    "\n",
    "def sum_versions(packet):\n",
    "\tv, tid, data = packet\n",
    "\treturn v if tid == 4 else v + sum(map(sum_versions, data))\n",
    "\n",
    "from math import prod\n",
    "def evaluate(packet):\n",
    "\t_, tid, data = packet\n",
    "\n",
    "\tif tid == 4:\n",
    "\t\treturn data\n",
    "\n",
    "\tvalues = map(evaluate, data)\n",
    "\n",
    "\tif tid == 0: return sum(values)\n",
    "\tif tid == 1: return prod(values)\n",
    "\tif tid == 2: return min(values)\n",
    "\tif tid == 3: return max(values)\n",
    "\n",
    "\ta, b = values\n",
    "\n",
    "\tif tid == 5: return int(a > b)\n",
    "\tif tid == 6: return int(a < b)\n",
    "\tif tid == 7: return int(a == b)\n",
    "\n",
    "\traise NotImplementedError('Unimplemented tid={}'.format(tid))\n"
   ]
  },
  {
   "cell_type": "code",
   "execution_count": 12,
   "id": "687e3bfd",
   "metadata": {
    "ExecuteTime": {
     "end_time": "2021-12-16T23:46:52.129195Z",
     "start_time": "2021-12-16T23:46:52.126381Z"
    }
   },
   "outputs": [],
   "source": [
    "stream = Bitstream(input_str)"
   ]
  },
  {
   "cell_type": "code",
   "execution_count": 13,
   "id": "f02ef580",
   "metadata": {
    "ExecuteTime": {
     "end_time": "2021-12-16T23:46:52.618720Z",
     "start_time": "2021-12-16T23:46:52.613405Z"
    }
   },
   "outputs": [
    {
     "name": "stdout",
     "output_type": "stream",
     "text": [
      "877\n",
      "194435634456\n"
     ]
    }
   ],
   "source": [
    "packet = stream.decode_one_packet()\n",
    "vsum   = sum_versions(packet)\n",
    "result = evaluate(packet)\n",
    "\n",
    "print(vsum)\n",
    "print(result)"
   ]
  },
  {
   "cell_type": "code",
   "execution_count": null,
   "id": "f1d1c698",
   "metadata": {},
   "outputs": [],
   "source": []
  }
 ],
 "metadata": {
  "kernelspec": {
   "display_name": "Python 3 (ipykernel)",
   "language": "python",
   "name": "python3"
  },
  "language_info": {
   "codemirror_mode": {
    "name": "ipython",
    "version": 3
   },
   "file_extension": ".py",
   "mimetype": "text/x-python",
   "name": "python",
   "nbconvert_exporter": "python",
   "pygments_lexer": "ipython3",
   "version": "3.9.6"
  }
 },
 "nbformat": 4,
 "nbformat_minor": 5
}
