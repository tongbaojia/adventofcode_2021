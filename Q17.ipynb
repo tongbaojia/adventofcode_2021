{
 "cells": [
  {
   "cell_type": "code",
   "execution_count": 1,
   "id": "5593384f",
   "metadata": {
    "ExecuteTime": {
     "end_time": "2021-12-17T22:29:30.737947Z",
     "start_time": "2021-12-17T22:29:30.735081Z"
    }
   },
   "outputs": [],
   "source": [
    "with open(\"q17_input.txt\", \"r\") as fp:\n",
    "    f_line = fp.readline()"
   ]
  },
  {
   "cell_type": "code",
   "execution_count": 2,
   "id": "36a2ab45",
   "metadata": {
    "ExecuteTime": {
     "end_time": "2021-12-17T22:29:30.743359Z",
     "start_time": "2021-12-17T22:29:30.740742Z"
    }
   },
   "outputs": [],
   "source": [
    "x, y = f_line.split(\"x=\")[1].split(\"y=\")"
   ]
  },
  {
   "cell_type": "code",
   "execution_count": 3,
   "id": "dad16527",
   "metadata": {
    "ExecuteTime": {
     "end_time": "2021-12-17T22:29:30.748374Z",
     "start_time": "2021-12-17T22:29:30.745201Z"
    }
   },
   "outputs": [],
   "source": [
    "x0 = int(x.split(\"..\")[0])\n",
    "x1 = int(x.split(\"..\")[1].split(\",\")[0])"
   ]
  },
  {
   "cell_type": "code",
   "execution_count": 4,
   "id": "7f86f6f7",
   "metadata": {
    "ExecuteTime": {
     "end_time": "2021-12-17T22:29:30.752961Z",
     "start_time": "2021-12-17T22:29:30.750224Z"
    }
   },
   "outputs": [],
   "source": [
    "y0 = int(y.split(\"..\")[0])\n",
    "y1 = int(y.split(\"..\")[1].split(\",\")[0])"
   ]
  },
  {
   "cell_type": "code",
   "execution_count": 5,
   "id": "80087ad6",
   "metadata": {
    "ExecuteTime": {
     "end_time": "2021-12-17T22:29:30.764599Z",
     "start_time": "2021-12-17T22:29:30.754543Z"
    }
   },
   "outputs": [
    {
     "data": {
      "text/plain": [
       "(70, 125, -159, -121)"
      ]
     },
     "execution_count": 5,
     "metadata": {},
     "output_type": "execute_result"
    }
   ],
   "source": [
    "x0, x1, y0, y1"
   ]
  },
  {
   "cell_type": "code",
   "execution_count": 6,
   "id": "79be38bf",
   "metadata": {
    "ExecuteTime": {
     "end_time": "2021-12-17T22:29:30.774274Z",
     "start_time": "2021-12-17T22:29:30.766536Z"
    }
   },
   "outputs": [],
   "source": [
    "class Probe:\n",
    "    def __init__(self, vx, vy, target_x0, target_y0, target_x1, target_y1):\n",
    "        self.x = 0\n",
    "        self.y = 0\n",
    "        self.vx = vx\n",
    "        self.vy = vy\n",
    "        self.target_x0 = target_x0\n",
    "        self.target_y0 = target_y0\n",
    "        self.target_x1 = target_x1\n",
    "        self.target_y1 = target_y1\n",
    "        self.path = set([(self.x, self.y)])\n",
    "        self.hit = False\n",
    "        self.max_h = self.y\n",
    "\n",
    "    def step(self):\n",
    "        self.x += self.vx\n",
    "        self.y += self.vy\n",
    "        self.path.add((self.x, self.y))\n",
    "        self.max_h = max(self.y, self.max_h)\n",
    "        if (\n",
    "            self.target_x0 <= self.x <= self.target_x1\n",
    "            and self.target_y0 <= self.y <= self.target_y1\n",
    "        ):\n",
    "            self.hit = True\n",
    "        self.vy -= 1\n",
    "        if self.vx > 0:\n",
    "            self.vx -= 1\n",
    "        elif self.vx < 0:\n",
    "            self.vx += 1\n",
    "\n",
    "    def shoot(self):\n",
    "        while self.can_still_hit_targets():\n",
    "            self.step()\n",
    "\n",
    "    def can_still_hit_targets(self):\n",
    "        return self.y >= self.target_y0 and self.x <= self.target_x1"
   ]
  },
  {
   "cell_type": "code",
   "execution_count": 7,
   "id": "98eb3d15",
   "metadata": {
    "ExecuteTime": {
     "end_time": "2021-12-17T22:29:32.389726Z",
     "start_time": "2021-12-17T22:29:30.776337Z"
    }
   },
   "outputs": [
    {
     "name": "stdout",
     "output_type": "stream",
     "text": [
      "12561\n",
      "3785\n"
     ]
    }
   ],
   "source": [
    "max_h = 0\n",
    "n_probe = 0\n",
    "for vx in range(1, x1 + 1):\n",
    "    n_y = 0\n",
    "    for vy in range(min(y0, y1), x1 * 2):\n",
    "        p = Probe(vx, vy, x0, y0, x1, y1)\n",
    "        p.shoot()\n",
    "        # if (vx == 7) and (vy == -1):\n",
    "        # print(p.path)\n",
    "        if p.hit:\n",
    "            max_h = max(max_h, p.max_h)\n",
    "\n",
    "            # if vx == 7:\n",
    "            # print(\"-..\", vx, vy)\n",
    "            n_probe += 1\n",
    "            n_y += 1\n",
    "    # print(vx, n_y)\n",
    "print(max_h)\n",
    "print(n_probe)"
   ]
  },
  {
   "cell_type": "code",
   "execution_count": null,
   "id": "5c1644c5",
   "metadata": {},
   "outputs": [],
   "source": []
  }
 ],
 "metadata": {
  "kernelspec": {
   "display_name": "Python 3 (ipykernel)",
   "language": "python",
   "name": "python3"
  },
  "language_info": {
   "codemirror_mode": {
    "name": "ipython",
    "version": 3
   },
   "file_extension": ".py",
   "mimetype": "text/x-python",
   "name": "python",
   "nbconvert_exporter": "python",
   "pygments_lexer": "ipython3",
   "version": "3.9.6"
  }
 },
 "nbformat": 4,
 "nbformat_minor": 5
}
