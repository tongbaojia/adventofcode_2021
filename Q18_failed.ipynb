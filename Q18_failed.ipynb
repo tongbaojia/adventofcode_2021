{
 "cells": [
  {
   "cell_type": "code",
   "execution_count": 1,
   "id": "d4a6f89c",
   "metadata": {
    "ExecuteTime": {
     "end_time": "2021-12-18T08:04:19.930460Z",
     "start_time": "2021-12-18T08:04:19.927475Z"
    }
   },
   "outputs": [],
   "source": [
    "with open(\"q18_input.txt\", \"r\") as fp:\n",
    "    f_lines = fp.readlines()"
   ]
  },
  {
   "cell_type": "code",
   "execution_count": 2,
   "id": "49f4762e",
   "metadata": {
    "ExecuteTime": {
     "end_time": "2021-12-18T08:04:19.944863Z",
     "start_time": "2021-12-18T08:04:19.932439Z"
    }
   },
   "outputs": [],
   "source": [
    "class SnailParse:\n",
    "    def __init__(self):\n",
    "        self.s = []  # stack for number, level\n",
    "        self.curr_level = 0\n",
    "        \n",
    "    def reset_level(self):\n",
    "        self.curr_level = 0\n",
    "        \n",
    "    def add_level(self, new_s):\n",
    "        for i in range(len(new_s)):\n",
    "            new_s[i][1] += 1\n",
    "        self.s += new_s\n",
    "        \n",
    "    def level_up(self):\n",
    "        for i in range(len(self.s)):\n",
    "            self.s[i][1] += 1\n",
    "            self.curr_level = 1\n",
    "\n",
    "    def add_new_c(self, c):\n",
    "        if c == \",\":\n",
    "            pass\n",
    "        elif c == \"[\":\n",
    "            self.curr_level += 1\n",
    "        elif c == \"]\":\n",
    "            self.curr_level -= 1\n",
    "        else:\n",
    "            v = int(c)\n",
    "            self.s.append([v, self.curr_level])\n",
    "\n",
    "    \n",
    "    def explode(self):\n",
    "        i = 0\n",
    "        # explode\n",
    "        while i < len(self.s):\n",
    "            # print(i, self.s)\n",
    "            step = 1\n",
    "            number, level = self.s[i]\n",
    "            # explode\n",
    "            if level >= 5:\n",
    "                # remove i\n",
    "                self.s.pop(i)\n",
    "                # actually remove i + 1\n",
    "                next_number, next_level  = self.s.pop(i)\n",
    "                # explode right\n",
    "                if i < len(self.s):\n",
    "                    self.s[i][0] += next_number\n",
    "                # explode left\n",
    "                if i > 0:\n",
    "                    self.s[i - 1][0] += number\n",
    "                    # set the iterator back to check split\n",
    "                    step = -1\n",
    "                self.s.insert(i, [0, level - 1])\n",
    "                return True\n",
    "            i += 1\n",
    "        return False\n",
    "            \n",
    "    def split(self):\n",
    "        i = 0\n",
    "        # explode\n",
    "        while i < len(self.s):\n",
    "            # print(i, self.s)\n",
    "            step = 1\n",
    "            number, level = self.s[i]\n",
    "            # explode\n",
    "            if number >= 10:\n",
    "                v0, v1 = number // 2, number - number // 2\n",
    "                self.s[i] = [v0, level + 1]\n",
    "                self.s.insert(i + 1, [v1, level + 1])\n",
    "                step = 0\n",
    "                return True\n",
    "            i += 1\n",
    "        return False\n",
    "        \n",
    "    def check(self):\n",
    "        # THIS IS SO CONFUSING\n",
    "        # HATE IT\n",
    "        flag = True\n",
    "        while flag:\n",
    "            flag = self.explode()\n",
    "            if not flag:\n",
    "                flag = self.split()\n",
    "                \n",
    "    def magnitude(self):\n",
    "        \"\"\"REALIZED I NEED TO KEEP TRACK OF []\"\"\""
   ]
  },
  {
   "cell_type": "code",
   "execution_count": 3,
   "id": "19f74bd1",
   "metadata": {
    "ExecuteTime": {
     "end_time": "2021-12-18T08:04:19.950204Z",
     "start_time": "2021-12-18T08:04:19.947760Z"
    }
   },
   "outputs": [],
   "source": [
    "# master_p = SnailParse()\n",
    "# parsed_lines = []\n",
    "# for line in f_lines:\n",
    "#     # print(line)\n",
    "#     p = SnailParse()\n",
    "#     for c in line.strip():\n",
    "#         p.add_new_c(c)\n",
    "#     p.explode()\n",
    "#     # print(p.s)\n",
    "#     parsed_lines.append(p)\n",
    "\n",
    "# for p in parsed_lines:\n",
    "#     master_p.add_level(p.s)\n",
    "#     print(master_p.s)\n",
    "#     master_p.explode()\n",
    "# print(master_p.s)"
   ]
  },
  {
   "cell_type": "code",
   "execution_count": 4,
   "id": "a61a2e78",
   "metadata": {
    "ExecuteTime": {
     "end_time": "2021-12-18T08:04:20.026226Z",
     "start_time": "2021-12-18T08:04:19.952152Z"
    },
    "scrolled": false
   },
   "outputs": [
    {
     "name": "stdout",
     "output_type": "stream",
     "text": [
      "[[7, 4], [7, 4], [7, 4], [0, 4], [7, 4], [8, 4], [8, 4], [8, 4], [6, 2], [9, 2]]\n"
     ]
    }
   ],
   "source": [
    "master_p = SnailParse()\n",
    "for n_l, line in enumerate(f_lines):\n",
    "    for c in line.strip():\n",
    "        master_p.add_new_c(c)\n",
    "    master_p.reset_level()\n",
    "    #  print(\"-->\", master_p.s)\n",
    "    master_p.check()\n",
    "    if n_l != len(f_lines) - 1:\n",
    "        master_p.level_up()\n",
    "print(master_p.s)"
   ]
  },
  {
   "cell_type": "markdown",
   "id": "e0d20e40",
   "metadata": {},
   "source": [
    "# GIVE UP"
   ]
  },
  {
   "cell_type": "code",
   "execution_count": 5,
   "id": "42a25e96",
   "metadata": {
    "ExecuteTime": {
     "end_time": "2021-12-18T08:04:20.040104Z",
     "start_time": "2021-12-18T08:04:20.027993Z"
    }
   },
   "outputs": [],
   "source": [
    "def explode_num(num):\n",
    "    def add_to_leftmost(num, val):\n",
    "        if isinstance(num, int):\n",
    "            return num + val\n",
    "        a, b = num\n",
    "        return [add_to_leftmost(a, val), b]\n",
    "\n",
    "    def add_to_rightmost(num, val):\n",
    "        if isinstance(num, int):\n",
    "            return num + val\n",
    "        a, b = num\n",
    "        return [a, add_to_rightmost(b, val)]\n",
    "\n",
    "    # Returns exploded, left_exp, new_num, right_exp\n",
    "    def impl(num, depth):\n",
    "        if isinstance(num, int):\n",
    "            return False, None, num, None\n",
    "\n",
    "        a, b = num\n",
    "        if depth == 4:\n",
    "            return True, a, 0, b\n",
    "\n",
    "        exploded, left_exp, a, right_exp = impl(a, depth+1)\n",
    "        if exploded:\n",
    "            if right_exp is not None:\n",
    "                b = add_to_leftmost(b, right_exp)\n",
    "                right_exp = None\n",
    "        else:\n",
    "            exploded, left_exp, b, right_exp = impl(b, depth+1)\n",
    "\n",
    "            if left_exp is not None:\n",
    "                a = add_to_rightmost(a, left_exp)\n",
    "                left_exp = None\n",
    "\n",
    "        return exploded, left_exp, [a, b], right_exp\n",
    "\n",
    "    exploded, _, new_num, _ = impl(num, 0)\n",
    "    return new_num if exploded else None\n",
    "\n",
    "def split_num(num):\n",
    "    if isinstance(num, int):\n",
    "        if num > 9:\n",
    "            d, m = divmod(num, 2)\n",
    "            return [d, d + m]\n",
    "        return None\n",
    "\n",
    "    a, b = num\n",
    "\n",
    "    new_a = split_num(a)\n",
    "    if new_a is not None:\n",
    "        return [new_a, b]\n",
    "\n",
    "    new_b = split_num(b)\n",
    "    if new_b is not None:\n",
    "        return [a, new_b]\n",
    "\n",
    "    return None\n",
    "\n",
    "def reduce_num(num):\n",
    "    while True:\n",
    "        new_num = explode_num(num)\n",
    "        if new_num is not None:\n",
    "            num = new_num\n",
    "            continue\n",
    "\n",
    "        new_num = split_num(num)\n",
    "        if new_num is not None:\n",
    "            num = new_num\n",
    "            continue\n",
    "\n",
    "        return num\n",
    "\n",
    "def magnitude(num):\n",
    "    if isinstance(num, int):\n",
    "        return num\n",
    "\n",
    "    a, b = num\n",
    "    return 3*magnitude(a) + 2*magnitude(b)\n",
    "\n",
    "def part1(s):\n",
    "    nums = list(map(reduce_num, map(eval, s)))\n",
    "\n",
    "    n = nums[0]\n",
    "    for item in nums[1:]:\n",
    "        n = reduce_num([n, item])\n",
    "\n",
    "    answer = magnitude(n)\n",
    "\n",
    "    print(f'The answer to part one is {answer}')\n",
    "\n",
    "def part2(s):\n",
    "    nums = list(map(reduce_num, map(eval, s)))\n",
    "\n",
    "    answer = max(magnitude(reduce_num([a, b]))\n",
    "                 for ia, a in enumerate(nums)\n",
    "                 for ib, b in enumerate(nums)\n",
    "                 if ia != ib)\n",
    "\n",
    "    print(f'The answer to part two is {answer}')"
   ]
  },
  {
   "cell_type": "code",
   "execution_count": 6,
   "id": "c775c46b",
   "metadata": {
    "ExecuteTime": {
     "end_time": "2021-12-18T08:04:20.220710Z",
     "start_time": "2021-12-18T08:04:20.042085Z"
    }
   },
   "outputs": [
    {
     "name": "stdout",
     "output_type": "stream",
     "text": [
      "The answer to part one is 2541\n"
     ]
    }
   ],
   "source": [
    "part1(f_lines)"
   ]
  },
  {
   "cell_type": "code",
   "execution_count": 7,
   "id": "3bfe5af8",
   "metadata": {
    "ExecuteTime": {
     "end_time": "2021-12-18T08:04:22.365233Z",
     "start_time": "2021-12-18T08:04:20.222318Z"
    }
   },
   "outputs": [
    {
     "name": "stdout",
     "output_type": "stream",
     "text": [
      "The answer to part two is 4647\n"
     ]
    }
   ],
   "source": [
    "part2(f_lines)"
   ]
  }
 ],
 "metadata": {
  "kernelspec": {
   "display_name": "Python 3 (ipykernel)",
   "language": "python",
   "name": "python3"
  },
  "language_info": {
   "codemirror_mode": {
    "name": "ipython",
    "version": 3
   },
   "file_extension": ".py",
   "mimetype": "text/x-python",
   "name": "python",
   "nbconvert_exporter": "python",
   "pygments_lexer": "ipython3",
   "version": "3.9.6"
  }
 },
 "nbformat": 4,
 "nbformat_minor": 5
}
