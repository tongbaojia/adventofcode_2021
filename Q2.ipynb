{
 "cells": [
  {
   "cell_type": "code",
   "execution_count": 1,
   "id": "02d2affb",
   "metadata": {},
   "outputs": [],
   "source": [
    "with open('q2_input.txt') as f:\n",
    "    lines = f.readlines()"
   ]
  },
  {
   "cell_type": "code",
   "execution_count": 2,
   "id": "0d6a324d",
   "metadata": {},
   "outputs": [
    {
     "data": {
      "text/plain": [
       "'forward 2\\n'"
      ]
     },
     "execution_count": 2,
     "metadata": {},
     "output_type": "execute_result"
    }
   ],
   "source": [
    "lines[0]"
   ]
  },
  {
   "cell_type": "code",
   "execution_count": 3,
   "id": "cdbc424f",
   "metadata": {},
   "outputs": [],
   "source": [
    "import collections\n",
    "d = collections.defaultdict(list)\n",
    "for l in lines:\n",
    "    k, v = l.split()\n",
    "    v = int(v)\n",
    "    d[k].append(v)"
   ]
  },
  {
   "cell_type": "code",
   "execution_count": 4,
   "id": "d8a65c77",
   "metadata": {},
   "outputs": [
    {
     "data": {
      "text/plain": [
       "dict_keys(['forward', 'down', 'up'])"
      ]
     },
     "execution_count": 4,
     "metadata": {},
     "output_type": "execute_result"
    }
   ],
   "source": [
    "d.keys()"
   ]
  },
  {
   "cell_type": "code",
   "execution_count": 5,
   "id": "7a35e966",
   "metadata": {},
   "outputs": [],
   "source": [
    "def get_loc_multiplied(d):\n",
    "    w = sum(d[\"forward\"])\n",
    "    h = sum(d[\"down\"]) - sum(d[\"up\"])\n",
    "    return w * h"
   ]
  },
  {
   "cell_type": "code",
   "execution_count": 6,
   "id": "f9b4d881",
   "metadata": {},
   "outputs": [
    {
     "data": {
      "text/plain": [
       "1804520"
      ]
     },
     "execution_count": 6,
     "metadata": {},
     "output_type": "execute_result"
    }
   ],
   "source": [
    "get_loc_multiplied(d)"
   ]
  },
  {
   "cell_type": "code",
   "execution_count": 7,
   "id": "fee07768",
   "metadata": {},
   "outputs": [],
   "source": [
    "def get_weird_aim(lines):\n",
    "    w = 0\n",
    "    aim = 0\n",
    "    h = 0\n",
    "    for l in lines:\n",
    "        k, v = l.split()\n",
    "        v = int(v)\n",
    "        if k == \"down\":\n",
    "            aim += v\n",
    "        elif k == \"up\":\n",
    "            aim -= v\n",
    "        elif k == \"forward\":\n",
    "            w += v\n",
    "            h += aim * v\n",
    "        else:\n",
    "            raise ValueError(k)\n",
    "        # print(w, h)\n",
    "    return w * h"
   ]
  },
  {
   "cell_type": "code",
   "execution_count": 8,
   "id": "b2110405",
   "metadata": {},
   "outputs": [
    {
     "data": {
      "text/plain": [
       "1971095320"
      ]
     },
     "execution_count": 8,
     "metadata": {},
     "output_type": "execute_result"
    }
   ],
   "source": [
    "get_weird_aim(lines)"
   ]
  },
  {
   "cell_type": "code",
   "execution_count": null,
   "id": "47307f04",
   "metadata": {},
   "outputs": [],
   "source": []
  }
 ],
 "metadata": {
  "kernelspec": {
   "display_name": "Python 3 (ipykernel)",
   "language": "python",
   "name": "python3"
  },
  "language_info": {
   "codemirror_mode": {
    "name": "ipython",
    "version": 3
   },
   "file_extension": ".py",
   "mimetype": "text/x-python",
   "name": "python",
   "nbconvert_exporter": "python",
   "pygments_lexer": "ipython3",
   "version": "3.9.6"
  }
 },
 "nbformat": 4,
 "nbformat_minor": 5
}
