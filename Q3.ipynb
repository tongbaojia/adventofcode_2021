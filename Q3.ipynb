{
 "cells": [
  {
   "cell_type": "code",
   "execution_count": 1,
   "id": "8fcfe0f8",
   "metadata": {
    "ExecuteTime": {
     "end_time": "2021-12-03T16:01:03.100141Z",
     "start_time": "2021-12-03T16:01:03.096770Z"
    }
   },
   "outputs": [],
   "source": [
    "with open(\"q3_input.txt\") as f:\n",
    "    lines = f.readlines()"
   ]
  },
  {
   "cell_type": "code",
   "execution_count": 2,
   "id": "fec5ce47",
   "metadata": {
    "ExecuteTime": {
     "end_time": "2021-12-03T16:01:03.112853Z",
     "start_time": "2021-12-03T16:01:03.102289Z"
    }
   },
   "outputs": [
    {
     "data": {
      "text/plain": [
       "'000011010001\\n'"
      ]
     },
     "execution_count": 2,
     "metadata": {},
     "output_type": "execute_result"
    }
   ],
   "source": [
    "lines[0]"
   ]
  },
  {
   "cell_type": "code",
   "execution_count": 3,
   "id": "ada92ea6",
   "metadata": {
    "ExecuteTime": {
     "end_time": "2021-12-03T16:01:03.119786Z",
     "start_time": "2021-12-03T16:01:03.116398Z"
    }
   },
   "outputs": [],
   "source": [
    "from collections import defaultdict"
   ]
  },
  {
   "cell_type": "code",
   "execution_count": 4,
   "id": "2417c629",
   "metadata": {
    "ExecuteTime": {
     "end_time": "2021-12-03T16:01:03.127265Z",
     "start_time": "2021-12-03T16:01:03.122022Z"
    }
   },
   "outputs": [],
   "source": [
    "def get_power(lines):\n",
    "    total_l = len(lines)\n",
    "    n_bins = len(lines[0].strip())\n",
    "    d = defaultdict(int)\n",
    "    for l in lines:\n",
    "        for i, c in enumerate(l.strip()):\n",
    "            d[i] += 1 if c == \"1\" else 0\n",
    "    # print(d, total_l)\n",
    "    gamma = \"\"\n",
    "    epsilon = \"\"\n",
    "    for i in range(n_bins):\n",
    "        if d[i] > total_l / 2:\n",
    "            gamma += \"1\"\n",
    "            epsilon += \"0\"\n",
    "        elif d[i] == total_l / 2:\n",
    "            print(\"err...\")\n",
    "        else:\n",
    "            gamma += \"0\"\n",
    "            epsilon += \"1\"\n",
    "    # print(gamma, epsilon)\n",
    "    gamma = int(gamma, 2)\n",
    "    epsilon = int(epsilon, 2)\n",
    "    return gamma * epsilon"
   ]
  },
  {
   "cell_type": "code",
   "execution_count": 5,
   "id": "af4cdc44",
   "metadata": {
    "ExecuteTime": {
     "end_time": "2021-12-03T16:01:03.135330Z",
     "start_time": "2021-12-03T16:01:03.129096Z"
    }
   },
   "outputs": [
    {
     "data": {
      "text/plain": [
       "1131506"
      ]
     },
     "execution_count": 5,
     "metadata": {},
     "output_type": "execute_result"
    }
   ],
   "source": [
    "get_power(lines)"
   ]
  },
  {
   "cell_type": "code",
   "execution_count": 6,
   "id": "9d3970b1",
   "metadata": {
    "ExecuteTime": {
     "end_time": "2021-12-03T16:01:03.142350Z",
     "start_time": "2021-12-03T16:01:03.137260Z"
    }
   },
   "outputs": [],
   "source": [
    "def get_num(nums, index=0, is_round_up=True):\n",
    "    # print(nums)\n",
    "    while len(nums) > 1:\n",
    "        total = 0\n",
    "        for n in nums:\n",
    "            if n[index] == \"1\":\n",
    "                total += 1\n",
    "        if is_round_up:\n",
    "            if total >= len(nums) / 2:\n",
    "                select_bin = \"1\"\n",
    "            else:\n",
    "                select_bin = \"0\"\n",
    "        else:\n",
    "            if total < len(nums) / 2:\n",
    "                select_bin = \"1\"\n",
    "            else:\n",
    "                select_bin = \"0\"\n",
    "        new_nums = []\n",
    "        for n in nums:\n",
    "            if n[index] == select_bin:\n",
    "                new_nums.append(n)\n",
    "        return get_num(new_nums, index + 1, is_round_up)\n",
    "    return nums[0]"
   ]
  },
  {
   "cell_type": "code",
   "execution_count": 7,
   "id": "8d7eaba6",
   "metadata": {
    "ExecuteTime": {
     "end_time": "2021-12-03T16:01:03.147402Z",
     "start_time": "2021-12-03T16:01:03.143920Z"
    }
   },
   "outputs": [],
   "source": [
    "def get_life(lines):\n",
    "    total_l = len(lines)\n",
    "    n_bins = len(lines[0].strip())\n",
    "    nums = []\n",
    "    for l in lines:\n",
    "        nums.append(l.strip())\n",
    "    oxygen = get_num(nums)\n",
    "    co2 = get_num(nums, is_round_up=False)\n",
    "    # print(oxygen, co2)\n",
    "    oxygen = int(oxygen, 2)\n",
    "    co2 = int(co2, 2)\n",
    "    return oxygen * co2"
   ]
  },
  {
   "cell_type": "code",
   "execution_count": 8,
   "id": "e2eee728",
   "metadata": {
    "ExecuteTime": {
     "end_time": "2021-12-03T16:01:03.153509Z",
     "start_time": "2021-12-03T16:01:03.149117Z"
    }
   },
   "outputs": [
    {
     "data": {
      "text/plain": [
       "7863147"
      ]
     },
     "execution_count": 8,
     "metadata": {},
     "output_type": "execute_result"
    }
   ],
   "source": [
    "get_life(lines)"
   ]
  },
  {
   "cell_type": "code",
   "execution_count": null,
   "id": "3a621338",
   "metadata": {},
   "outputs": [],
   "source": []
  }
 ],
 "metadata": {
  "kernelspec": {
   "display_name": "Python 3 (ipykernel)",
   "language": "python",
   "name": "python3"
  },
  "language_info": {
   "codemirror_mode": {
    "name": "ipython",
    "version": 3
   },
   "file_extension": ".py",
   "mimetype": "text/x-python",
   "name": "python",
   "nbconvert_exporter": "python",
   "pygments_lexer": "ipython3",
   "version": "3.9.6"
  }
 },
 "nbformat": 4,
 "nbformat_minor": 5
}
