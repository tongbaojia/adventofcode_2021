{
 "cells": [
  {
   "cell_type": "code",
   "execution_count": 1,
   "id": "f190cd4f",
   "metadata": {
    "ExecuteTime": {
     "end_time": "2021-12-04T15:51:42.895901Z",
     "start_time": "2021-12-04T15:51:42.886001Z"
    }
   },
   "outputs": [],
   "source": [
    "from collections import deque"
   ]
  },
  {
   "cell_type": "code",
   "execution_count": 2,
   "id": "de375352",
   "metadata": {
    "ExecuteTime": {
     "end_time": "2021-12-04T15:51:42.912230Z",
     "start_time": "2021-12-04T15:51:42.901176Z"
    }
   },
   "outputs": [],
   "source": [
    "with open('q4_input.txt', \"r\") as f:\n",
    "    lines = f.readlines()"
   ]
  },
  {
   "cell_type": "code",
   "execution_count": 3,
   "id": "b5f67ec9",
   "metadata": {
    "ExecuteTime": {
     "end_time": "2021-12-04T15:51:42.942815Z",
     "start_time": "2021-12-04T15:51:42.917395Z"
    }
   },
   "outputs": [],
   "source": [
    "class Grid:\n",
    "    def __init__(self, grid):\n",
    "        self.grid = grid\n",
    "        self.index_map = {}\n",
    "        self.n_rows = len(grid)\n",
    "        self.n_cols = len(grid[0])\n",
    "        for i in range(self.n_rows):\n",
    "            for j in range(self.n_cols):\n",
    "                self.index_map[grid[i][j]] = (i, j)\n",
    "        if len(self.index_map.keys()) != self.n_rows * self.n_cols:\n",
    "            raise ValueError(\"Duplicated values?!\")\n",
    "        self.n_filled_rows = [self.n_cols for _ in range(self.n_rows)]\n",
    "        self.n_filled_cols = [self.n_rows for _ in range(self.n_cols)]\n",
    "        self.seen = []\n",
    "        self.bingoed = False\n",
    "\n",
    "    def add_num(self, n):\n",
    "        index = self.index_map.get(n)\n",
    "        if index is None:\n",
    "            return False\n",
    "        self.seen.append(n)\n",
    "        i, j = index\n",
    "        self.n_filled_rows[i] -= 1\n",
    "        self.n_filled_cols[j] -= 1\n",
    "        if any(v == 0 for v in self.n_filled_rows) or any(\n",
    "            v == 0 for v in self.n_filled_cols\n",
    "        ):\n",
    "            self.bingoed = True\n",
    "            return True\n",
    "        else:\n",
    "            return False\n",
    "\n",
    "    def get_value(self):\n",
    "        return (sum(self.index_map.keys()) - sum(self.seen)) * self.seen[-1]"
   ]
  },
  {
   "cell_type": "markdown",
   "id": "c03545d8",
   "metadata": {},
   "source": [
    "# init the state"
   ]
  },
  {
   "cell_type": "code",
   "execution_count": 4,
   "id": "42144c3a",
   "metadata": {
    "ExecuteTime": {
     "end_time": "2021-12-04T15:51:42.966306Z",
     "start_time": "2021-12-04T15:51:42.948944Z"
    }
   },
   "outputs": [],
   "source": [
    "nums = deque([int(n) for n in lines[0].strip().split(\",\")])\n",
    "grids = []\n",
    "grid = []\n",
    "# first two lines are not grids\n",
    "for line in lines[2:]:\n",
    "    if line.strip() == \"\":\n",
    "        grids.append(Grid(grid))\n",
    "        grid = []\n",
    "    else:\n",
    "        grid_line = []\n",
    "        for n in line.split():\n",
    "            grid_line.append(int(n))\n",
    "        grid.append(grid_line)\n",
    "        # print(grid)\n",
    "# don't forget the last one\n",
    "grids.append(Grid(grid))"
   ]
  },
  {
   "cell_type": "markdown",
   "id": "c8be890e",
   "metadata": {},
   "source": [
    "# question 1"
   ]
  },
  {
   "cell_type": "code",
   "execution_count": 5,
   "id": "c54ee1de",
   "metadata": {
    "ExecuteTime": {
     "end_time": "2021-12-04T15:51:42.997984Z",
     "start_time": "2021-12-04T15:51:42.972073Z"
    }
   },
   "outputs": [
    {
     "name": "stdout",
     "output_type": "stream",
     "text": [
      "[[55, 15, 85, 39, 4], [95, 83, 27, 46, 45], [19, 47, 61, 9, 66], [82, 32, 72, 77, 16], [50, 96, 14, 60, 35]]\n",
      "first bingo 72770\n",
      "[[47, 12, 71, 88, 74], [28, 5, 79, 58, 26], [93, 67, 62, 86, 23], [66, 13, 96, 46, 17], [94, 59, 19, 54, 15]]\n",
      "last bingo 13912\n"
     ]
    }
   ],
   "source": [
    "bingo = False\n",
    "finished = False\n",
    "for n in nums:\n",
    "    # print(n)\n",
    "    for grid in grids:\n",
    "        # bingoed \n",
    "        if grid.add_num(n):\n",
    "            if not bingo:\n",
    "                print(grid.grid)\n",
    "                print(\"first bingo\", grid.get_value())\n",
    "                bingo = True\n",
    "            if len(grids) == 1:\n",
    "                print(grid.grid)\n",
    "                print(\"last bingo\", grid.get_value())\n",
    "                finished = True\n",
    "    for grid in grids:\n",
    "        if grid.bingoed:\n",
    "            grids.remove(grid)\n",
    "    if finished:\n",
    "        break"
   ]
  },
  {
   "cell_type": "code",
   "execution_count": null,
   "id": "1e79c710",
   "metadata": {},
   "outputs": [],
   "source": []
  }
 ],
 "metadata": {
  "kernelspec": {
   "display_name": "Python 3 (ipykernel)",
   "language": "python",
   "name": "python3"
  },
  "language_info": {
   "codemirror_mode": {
    "name": "ipython",
    "version": 3
   },
   "file_extension": ".py",
   "mimetype": "text/x-python",
   "name": "python",
   "nbconvert_exporter": "python",
   "pygments_lexer": "ipython3",
   "version": "3.9.6"
  }
 },
 "nbformat": 4,
 "nbformat_minor": 5
}
