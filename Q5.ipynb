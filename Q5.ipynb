{
 "cells": [
  {
   "cell_type": "code",
   "execution_count": 1,
   "id": "beed0f76",
   "metadata": {
    "ExecuteTime": {
     "end_time": "2021-12-06T00:54:52.496596Z",
     "start_time": "2021-12-06T00:54:52.493129Z"
    }
   },
   "outputs": [],
   "source": [
    "from collections import defaultdict"
   ]
  },
  {
   "cell_type": "code",
   "execution_count": 2,
   "id": "69b7a5ab",
   "metadata": {
    "ExecuteTime": {
     "end_time": "2021-12-06T00:54:52.515942Z",
     "start_time": "2021-12-06T00:54:52.498997Z"
    }
   },
   "outputs": [],
   "source": [
    "with open('q5_input.txt', \"r\") as f:\n",
    "    file_lines = f.readlines()"
   ]
  },
  {
   "cell_type": "code",
   "execution_count": 3,
   "id": "49e6d130",
   "metadata": {
    "ExecuteTime": {
     "end_time": "2021-12-06T00:54:52.529656Z",
     "start_time": "2021-12-06T00:54:52.519962Z"
    }
   },
   "outputs": [],
   "source": [
    "class Line:\n",
    "    def __init__(self, start, end):\n",
    "        self.x0 = start[0]\n",
    "        self.y0 = start[1]\n",
    "        self.x1 = end[0]\n",
    "        self.y1 = end[1]\n",
    "\n",
    "    @property\n",
    "    def is_vertical(self):\n",
    "        return self.x0 == self.x1\n",
    "\n",
    "    @property\n",
    "    def is_horizontal(self):\n",
    "        return self.y0 == self.y1\n",
    "\n",
    "    @property\n",
    "    def is_diagonal(self):\n",
    "        return abs(self.x0 - self.x1) > 0 and abs(self.x0 - self.x1) == abs(\n",
    "            self.y0 - self.y1\n",
    "        )\n",
    "\n",
    "    @property\n",
    "    def direction(self):\n",
    "        if self.x0 < self.x1 and self.y0 < self.y1:\n",
    "            return (1, 1)\n",
    "        if self.x0 < self.x1 and self.y0 > self.y1:\n",
    "            return (1, -1)\n",
    "        if self.x0 > self.x1 and self.y0 < self.y1:\n",
    "            return (-1, 1)\n",
    "        if self.x0 > self.x1 and self.y0 > self.y1:\n",
    "            return (-1, -1)\n",
    "        else:\n",
    "            raise ValueError(\"WTF, which condition is wrong\")"
   ]
  },
  {
   "cell_type": "code",
   "execution_count": 4,
   "id": "680d725c",
   "metadata": {
    "ExecuteTime": {
     "end_time": "2021-12-06T00:54:52.538238Z",
     "start_time": "2021-12-06T00:54:52.531513Z"
    }
   },
   "outputs": [],
   "source": [
    "lines = []\n",
    "for l in file_lines:\n",
    "    start, end = l.split(\"->\")\n",
    "    start = tuple(int(i.strip()) for i in start.split(\",\"))\n",
    "    end = tuple(int(i.strip()) for i in end.split(\",\"))\n",
    "    lines.append(Line(start, end))"
   ]
  },
  {
   "cell_type": "code",
   "execution_count": 5,
   "id": "8b042483",
   "metadata": {
    "ExecuteTime": {
     "end_time": "2021-12-06T00:54:52.633516Z",
     "start_time": "2021-12-06T00:54:52.539895Z"
    }
   },
   "outputs": [],
   "source": [
    "grid = defaultdict(int)\n",
    "for l in lines:\n",
    "    # print(l.x0, l.x1, l.y0, l.y1, grid)\n",
    "    if l.is_horizontal:\n",
    "        for j in range(min(l.x0, l.x1), max(l.x0, l.x1) + 1):\n",
    "            grid[(j, l.y0)] += 1\n",
    "    elif l.is_vertical:\n",
    "        for j in range(min(l.y0, l.y1), max(l.y0, l.y1) + 1):\n",
    "            grid[(l.x0, j)] += 1"
   ]
  },
  {
   "cell_type": "code",
   "execution_count": 6,
   "id": "69ee44e2",
   "metadata": {
    "ExecuteTime": {
     "end_time": "2021-12-06T00:54:52.650465Z",
     "start_time": "2021-12-06T00:54:52.635240Z"
    }
   },
   "outputs": [
    {
     "name": "stdout",
     "output_type": "stream",
     "text": [
      "4421\n"
     ]
    }
   ],
   "source": [
    "ans = 0\n",
    "for k, v in grid.items():\n",
    "    if v >= 2:\n",
    "        ans += 1\n",
    "print(ans)"
   ]
  },
  {
   "cell_type": "code",
   "execution_count": 7,
   "id": "72e05bc1",
   "metadata": {
    "ExecuteTime": {
     "end_time": "2021-12-06T00:54:52.717966Z",
     "start_time": "2021-12-06T00:54:52.652321Z"
    }
   },
   "outputs": [],
   "source": [
    "for l in lines:\n",
    "    if l.is_diagonal:\n",
    "        direction = l.direction\n",
    "        # print(direction)\n",
    "        # print(l.x0, l.x1, l.y0, l.y1, grid)\n",
    "        v_x, v_y = l.x0, l.y0\n",
    "        while v_x != l.x1:\n",
    "            grid[(v_x, v_y)] += 1\n",
    "            v_x += direction[0]\n",
    "            v_y += direction[1]\n",
    "        grid[(v_x, v_y)] += 1"
   ]
  },
  {
   "cell_type": "code",
   "execution_count": 8,
   "id": "e289c263",
   "metadata": {
    "ExecuteTime": {
     "end_time": "2021-12-06T00:54:52.738776Z",
     "start_time": "2021-12-06T00:54:52.719555Z"
    }
   },
   "outputs": [
    {
     "name": "stdout",
     "output_type": "stream",
     "text": [
      "18674\n"
     ]
    }
   ],
   "source": [
    "ans = 0\n",
    "for k, v in grid.items():\n",
    "    if v >= 2:\n",
    "        ans += 1\n",
    "print(ans)"
   ]
  }
 ],
 "metadata": {
  "kernelspec": {
   "display_name": "Python 3 (ipykernel)",
   "language": "python",
   "name": "python3"
  },
  "language_info": {
   "codemirror_mode": {
    "name": "ipython",
    "version": 3
   },
   "file_extension": ".py",
   "mimetype": "text/x-python",
   "name": "python",
   "nbconvert_exporter": "python",
   "pygments_lexer": "ipython3",
   "version": "3.9.6"
  }
 },
 "nbformat": 4,
 "nbformat_minor": 5
}
