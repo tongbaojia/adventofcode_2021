{
 "cells": [
  {
   "cell_type": "code",
   "execution_count": null,
   "id": "7eb07cb6",
   "metadata": {},
   "outputs": [],
   "source": [
    "with open('q6_input.txt', \"r\") as f:\n",
    "    file_lines = f.readlines()"
   ]
  }
 ],
 "metadata": {
  "kernelspec": {
   "display_name": "Python 3 (ipykernel)",
   "language": "python",
   "name": "python3"
  },
  "language_info": {
   "codemirror_mode": {
    "name": "ipython",
    "version": 3
   },
   "file_extension": ".py",
   "mimetype": "text/x-python",
   "name": "python",
   "nbconvert_exporter": "python",
   "pygments_lexer": "ipython3",
   "version": "3.9.6"
  }
 },
 "nbformat": 4,
 "nbformat_minor": 5
}
