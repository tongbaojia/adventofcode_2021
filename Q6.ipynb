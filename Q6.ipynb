{
 "cells": [
  {
   "cell_type": "code",
   "execution_count": 1,
   "id": "3c4d5c77",
   "metadata": {
    "ExecuteTime": {
     "end_time": "2021-12-06T23:06:45.994029Z",
     "start_time": "2021-12-06T23:06:45.991232Z"
    }
   },
   "outputs": [],
   "source": [
    "from functools import lru_cache"
   ]
  },
  {
   "cell_type": "code",
   "execution_count": 2,
   "id": "7eb07cb6",
   "metadata": {
    "ExecuteTime": {
     "end_time": "2021-12-06T23:06:45.999729Z",
     "start_time": "2021-12-06T23:06:45.996393Z"
    }
   },
   "outputs": [],
   "source": [
    "with open('q6_input.txt', \"r\") as f:\n",
    "    file_lines = f.readlines()"
   ]
  },
  {
   "cell_type": "code",
   "execution_count": 3,
   "id": "5010edf9",
   "metadata": {
    "ExecuteTime": {
     "end_time": "2021-12-06T23:06:46.007560Z",
     "start_time": "2021-12-06T23:06:46.004086Z"
    }
   },
   "outputs": [],
   "source": [
    "fishes = [int(i) for i in file_lines[0].split(\",\")]"
   ]
  },
  {
   "cell_type": "code",
   "execution_count": 4,
   "id": "efb93cfb",
   "metadata": {
    "ExecuteTime": {
     "end_time": "2021-12-06T23:06:46.013241Z",
     "start_time": "2021-12-06T23:06:46.009637Z"
    }
   },
   "outputs": [],
   "source": [
    "@lru_cache(None)\n",
    "def sim_growth(n, days):\n",
    "    if n >= days:\n",
    "        # then just this one fish\n",
    "        return 1\n",
    "    else:\n",
    "        return sim_growth(6, days - n - 1) + sim_growth(8, days - n - 1)"
   ]
  },
  {
   "cell_type": "code",
   "execution_count": 5,
   "id": "16791cfe",
   "metadata": {
    "ExecuteTime": {
     "end_time": "2021-12-06T23:06:46.017348Z",
     "start_time": "2021-12-06T23:06:46.014896Z"
    }
   },
   "outputs": [],
   "source": [
    "# sim_growth(1, 9)"
   ]
  },
  {
   "cell_type": "code",
   "execution_count": 6,
   "id": "4b214efa",
   "metadata": {
    "ExecuteTime": {
     "end_time": "2021-12-06T23:06:46.022416Z",
     "start_time": "2021-12-06T23:06:46.019088Z"
    }
   },
   "outputs": [],
   "source": [
    "days = 256\n",
    "ans = 0\n",
    "for fish in fishes:\n",
    "    ans += sim_growth(fish, days)"
   ]
  },
  {
   "cell_type": "code",
   "execution_count": 7,
   "id": "7a9a732c",
   "metadata": {
    "ExecuteTime": {
     "end_time": "2021-12-06T23:06:46.035308Z",
     "start_time": "2021-12-06T23:06:46.024625Z"
    }
   },
   "outputs": [
    {
     "data": {
      "text/plain": [
       "1705008653296"
      ]
     },
     "execution_count": 7,
     "metadata": {},
     "output_type": "execute_result"
    }
   ],
   "source": [
    "ans"
   ]
  },
  {
   "cell_type": "code",
   "execution_count": null,
   "id": "d8c9631c",
   "metadata": {},
   "outputs": [],
   "source": []
  }
 ],
 "metadata": {
  "kernelspec": {
   "display_name": "Python 3 (ipykernel)",
   "language": "python",
   "name": "python3"
  },
  "language_info": {
   "codemirror_mode": {
    "name": "ipython",
    "version": 3
   },
   "file_extension": ".py",
   "mimetype": "text/x-python",
   "name": "python",
   "nbconvert_exporter": "python",
   "pygments_lexer": "ipython3",
   "version": "3.9.6"
  }
 },
 "nbformat": 4,
 "nbformat_minor": 5
}
