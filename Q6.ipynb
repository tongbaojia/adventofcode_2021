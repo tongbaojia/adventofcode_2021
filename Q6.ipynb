{
 "cells": [
  {
   "cell_type": "code",
   "execution_count": 1,
   "id": "f5d187e3",
   "metadata": {
    "ExecuteTime": {
     "end_time": "2021-12-06T23:04:26.730976Z",
     "start_time": "2021-12-06T23:04:26.728248Z"
    }
   },
   "outputs": [],
   "source": [
    "from functools import lru_cache"
   ]
  },
  {
   "cell_type": "code",
   "execution_count": 2,
   "id": "7eb07cb6",
   "metadata": {
    "ExecuteTime": {
     "end_time": "2021-12-06T23:04:26.749220Z",
     "start_time": "2021-12-06T23:04:26.739069Z"
    }
   },
   "outputs": [],
   "source": [
    "with open('q6_input.txt', \"r\") as f:\n",
    "    file_lines = f.readlines()"
   ]
  },
  {
   "cell_type": "code",
   "execution_count": 3,
   "id": "43c5c2f9",
   "metadata": {
    "ExecuteTime": {
     "end_time": "2021-12-06T23:04:26.755848Z",
     "start_time": "2021-12-06T23:04:26.752740Z"
    }
   },
   "outputs": [],
   "source": [
    "fishes = [int(i) for i in file_lines[0].split(\",\")]"
   ]
  },
  {
   "cell_type": "code",
   "execution_count": 4,
   "id": "df0275bb",
   "metadata": {
    "ExecuteTime": {
     "end_time": "2021-12-06T23:04:26.761570Z",
     "start_time": "2021-12-06T23:04:26.757910Z"
    }
   },
   "outputs": [],
   "source": [
    "@lru_cache(None)\n",
    "def sim_growth(n, days):\n",
    "    if n >= days:\n",
    "        # then just this one fish\n",
    "        return 1\n",
    "    else:\n",
    "        return sim_growth(6, days - n - 1) + sim_growth(8, days - n - 1)"
   ]
  },
  {
   "cell_type": "code",
   "execution_count": 5,
   "id": "ef1b79e5",
   "metadata": {
    "ExecuteTime": {
     "end_time": "2021-12-06T23:04:26.765852Z",
     "start_time": "2021-12-06T23:04:26.763585Z"
    }
   },
   "outputs": [],
   "source": [
    "# sim_growth(1, 9)"
   ]
  },
  {
   "cell_type": "code",
   "execution_count": 6,
   "id": "5a06b897",
   "metadata": {
    "ExecuteTime": {
     "end_time": "2021-12-06T23:04:26.770625Z",
     "start_time": "2021-12-06T23:04:26.767769Z"
    }
   },
   "outputs": [],
   "source": [
    "days = 80\n",
    "ans = 0\n",
    "for fish in fishes:\n",
    "    ans += sim_growth(fish, days)"
   ]
  },
  {
   "cell_type": "code",
   "execution_count": 7,
   "id": "76bdfacd",
   "metadata": {
    "ExecuteTime": {
     "end_time": "2021-12-06T23:04:26.782014Z",
     "start_time": "2021-12-06T23:04:26.772427Z"
    }
   },
   "outputs": [
    {
     "data": {
      "text/plain": [
       "379414"
      ]
     },
     "execution_count": 7,
     "metadata": {},
     "output_type": "execute_result"
    }
   ],
   "source": [
    "ans"
   ]
  },
  {
   "cell_type": "code",
   "execution_count": null,
   "id": "bab1bf9e",
   "metadata": {},
   "outputs": [],
   "source": []
  }
 ],
 "metadata": {
  "kernelspec": {
   "display_name": "Python 3 (ipykernel)",
   "language": "python",
   "name": "python3"
  },
  "language_info": {
   "codemirror_mode": {
    "name": "ipython",
    "version": 3
   },
   "file_extension": ".py",
   "mimetype": "text/x-python",
   "name": "python",
   "nbconvert_exporter": "python",
   "pygments_lexer": "ipython3",
   "version": "3.9.6"
  }
 },
 "nbformat": 4,
 "nbformat_minor": 5
}
