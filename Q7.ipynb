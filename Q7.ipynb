{
 "cells": [
  {
   "cell_type": "code",
   "execution_count": 1,
   "id": "0aaaad5c",
   "metadata": {
    "ExecuteTime": {
     "end_time": "2021-12-07T05:24:30.396661Z",
     "start_time": "2021-12-07T05:24:30.393060Z"
    }
   },
   "outputs": [],
   "source": [
    "with open('q7_input.txt', \"r\") as f:\n",
    "    file_lines = f.readlines()"
   ]
  },
  {
   "cell_type": "code",
   "execution_count": 2,
   "id": "a3cbee13",
   "metadata": {
    "ExecuteTime": {
     "end_time": "2021-12-07T05:24:30.402351Z",
     "start_time": "2021-12-07T05:24:30.398948Z"
    }
   },
   "outputs": [],
   "source": [
    "pos = [int(i) for i in file_lines[0].split(\",\")]"
   ]
  },
  {
   "cell_type": "code",
   "execution_count": 3,
   "id": "02868377",
   "metadata": {
    "ExecuteTime": {
     "end_time": "2021-12-07T05:24:30.408431Z",
     "start_time": "2021-12-07T05:24:30.405667Z"
    }
   },
   "outputs": [],
   "source": [
    "pos.sort()"
   ]
  },
  {
   "cell_type": "code",
   "execution_count": 4,
   "id": "b1144ae6",
   "metadata": {
    "ExecuteTime": {
     "end_time": "2021-12-07T05:24:30.498084Z",
     "start_time": "2021-12-07T05:24:30.410203Z"
    }
   },
   "outputs": [],
   "source": [
    "import numpy as np"
   ]
  },
  {
   "cell_type": "code",
   "execution_count": 5,
   "id": "b2811e6b",
   "metadata": {
    "ExecuteTime": {
     "end_time": "2021-12-07T05:24:30.502406Z",
     "start_time": "2021-12-07T05:24:30.499608Z"
    }
   },
   "outputs": [],
   "source": [
    "median = np.median(pos)"
   ]
  },
  {
   "cell_type": "code",
   "execution_count": 6,
   "id": "7b401038",
   "metadata": {
    "ExecuteTime": {
     "end_time": "2021-12-07T05:24:30.512419Z",
     "start_time": "2021-12-07T05:24:30.503969Z"
    }
   },
   "outputs": [
    {
     "data": {
      "text/plain": [
       "347449.0"
      ]
     },
     "execution_count": 6,
     "metadata": {},
     "output_type": "execute_result"
    }
   ],
   "source": [
    "sum(abs(i - median) for i in pos)"
   ]
  },
  {
   "cell_type": "code",
   "execution_count": 7,
   "id": "3be52a75",
   "metadata": {
    "ExecuteTime": {
     "end_time": "2021-12-07T05:24:30.516680Z",
     "start_time": "2021-12-07T05:24:30.514058Z"
    }
   },
   "outputs": [],
   "source": [
    "mean = np.mean(pos)"
   ]
  },
  {
   "cell_type": "code",
   "execution_count": 8,
   "id": "37c4ea77",
   "metadata": {
    "ExecuteTime": {
     "end_time": "2021-12-07T05:24:30.523739Z",
     "start_time": "2021-12-07T05:24:30.519267Z"
    }
   },
   "outputs": [
    {
     "data": {
      "text/plain": [
       "(486.505, 347.0)"
      ]
     },
     "execution_count": 8,
     "metadata": {},
     "output_type": "execute_result"
    }
   ],
   "source": [
    "mean, median"
   ]
  },
  {
   "cell_type": "code",
   "execution_count": 9,
   "id": "42393bf0",
   "metadata": {
    "ExecuteTime": {
     "end_time": "2021-12-07T05:24:30.534240Z",
     "start_time": "2021-12-07T05:24:30.528873Z"
    }
   },
   "outputs": [
    {
     "data": {
      "text/plain": [
       "98038946.0"
      ]
     },
     "execution_count": 9,
     "metadata": {},
     "output_type": "execute_result"
    }
   ],
   "source": [
    "sum((abs(i - mean) + 1 ) * abs(i - mean)//2 for i in pos)"
   ]
  },
  {
   "cell_type": "code",
   "execution_count": 10,
   "id": "f45108af",
   "metadata": {
    "ExecuteTime": {
     "end_time": "2021-12-07T05:24:30.538584Z",
     "start_time": "2021-12-07T05:24:30.536170Z"
    }
   },
   "outputs": [],
   "source": [
    "mean_1 = int(mean)"
   ]
  },
  {
   "cell_type": "code",
   "execution_count": 11,
   "id": "b0b2c689",
   "metadata": {
    "ExecuteTime": {
     "end_time": "2021-12-07T05:24:30.544034Z",
     "start_time": "2021-12-07T05:24:30.540221Z"
    }
   },
   "outputs": [
    {
     "data": {
      "text/plain": [
       "486"
      ]
     },
     "execution_count": 11,
     "metadata": {},
     "output_type": "execute_result"
    }
   ],
   "source": [
    "mean_1"
   ]
  },
  {
   "cell_type": "code",
   "execution_count": 12,
   "id": "e6aaadb7",
   "metadata": {
    "ExecuteTime": {
     "end_time": "2021-12-07T05:24:30.552058Z",
     "start_time": "2021-12-07T05:24:30.547164Z"
    }
   },
   "outputs": [
    {
     "data": {
      "text/plain": [
       "98039527"
      ]
     },
     "execution_count": 12,
     "metadata": {},
     "output_type": "execute_result"
    }
   ],
   "source": [
    "sum((abs(i - mean_1) + 1 ) * abs(i - mean_1)//2 for i in pos)"
   ]
  },
  {
   "cell_type": "code",
   "execution_count": 13,
   "id": "78e46a51",
   "metadata": {
    "ExecuteTime": {
     "end_time": "2021-12-07T05:24:30.556509Z",
     "start_time": "2021-12-07T05:24:30.553906Z"
    }
   },
   "outputs": [],
   "source": [
    "mean_2 = mean_1 - 1"
   ]
  },
  {
   "cell_type": "code",
   "execution_count": 14,
   "id": "49a9bb84",
   "metadata": {
    "ExecuteTime": {
     "end_time": "2021-12-07T05:24:30.562974Z",
     "start_time": "2021-12-07T05:24:30.558499Z"
    }
   },
   "outputs": [
    {
     "data": {
      "text/plain": [
       "98040439"
      ]
     },
     "execution_count": 14,
     "metadata": {},
     "output_type": "execute_result"
    }
   ],
   "source": [
    "sum((abs(i - mean_2) + 1 ) * abs(i - mean_2)//2 for i in pos)"
   ]
  },
  {
   "cell_type": "code",
   "execution_count": null,
   "id": "69b96e41",
   "metadata": {},
   "outputs": [],
   "source": []
  }
 ],
 "metadata": {
  "kernelspec": {
   "display_name": "Python 3 (ipykernel)",
   "language": "python",
   "name": "python3"
  },
  "language_info": {
   "codemirror_mode": {
    "name": "ipython",
    "version": 3
   },
   "file_extension": ".py",
   "mimetype": "text/x-python",
   "name": "python",
   "nbconvert_exporter": "python",
   "pygments_lexer": "ipython3",
   "version": "3.9.6"
  }
 },
 "nbformat": 4,
 "nbformat_minor": 5
}
