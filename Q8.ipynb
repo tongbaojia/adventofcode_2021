{
 "cells": [
  {
   "cell_type": "code",
   "execution_count": 1,
   "id": "00896db8",
   "metadata": {
    "ExecuteTime": {
     "end_time": "2021-12-08T06:26:05.172904Z",
     "start_time": "2021-12-08T06:26:05.168867Z"
    }
   },
   "outputs": [],
   "source": [
    "with open('q8_input.txt', \"r\") as f:\n",
    "    file_lines = f.readlines()"
   ]
  },
  {
   "cell_type": "code",
   "execution_count": 2,
   "id": "7b63af2e",
   "metadata": {
    "ExecuteTime": {
     "end_time": "2021-12-08T06:26:05.181439Z",
     "start_time": "2021-12-08T06:26:05.175250Z"
    }
   },
   "outputs": [],
   "source": [
    "inputs = []\n",
    "for l in file_lines:\n",
    "    line_input = []\n",
    "    for i in l.split(\"|\"):\n",
    "        for j in i.split():\n",
    "            line_input.append(\"\".join(sorted(j)))\n",
    "    inputs.append(line_input)"
   ]
  },
  {
   "cell_type": "code",
   "execution_count": 3,
   "id": "40d1878a",
   "metadata": {
    "ExecuteTime": {
     "end_time": "2021-12-08T06:26:05.188307Z",
     "start_time": "2021-12-08T06:26:05.184981Z"
    }
   },
   "outputs": [],
   "source": [
    "# n-seg, number\n",
    "lookup = {\n",
    "    2: [1],\n",
    "    6: [0, 6, 9],\n",
    "    5: [2, 3, 5],\n",
    "    4: [4],\n",
    "    3: [7],\n",
    "    7: [8],\n",
    "}"
   ]
  },
  {
   "cell_type": "code",
   "execution_count": 4,
   "id": "a78ddfc2",
   "metadata": {
    "ExecuteTime": {
     "end_time": "2021-12-08T06:26:05.195725Z",
     "start_time": "2021-12-08T06:26:05.190724Z"
    }
   },
   "outputs": [
    {
     "name": "stdout",
     "output_type": "stream",
     "text": [
      "493\n"
     ]
    }
   ],
   "source": [
    "ans_1 = 0\n",
    "for line_input in inputs:\n",
    "    digits = line_input[:10]\n",
    "    values = line_input[10:]\n",
    "    for i, value in enumerate(values):\n",
    "        # print(value)\n",
    "        if len(lookup[len(value)]) == 1:\n",
    "            ans_1 += 1\n",
    "            # print(value, lookup[len(value)])\n",
    "print(ans_1)"
   ]
  },
  {
   "cell_type": "code",
   "execution_count": 5,
   "id": "d00bc518",
   "metadata": {
    "ExecuteTime": {
     "end_time": "2021-12-08T06:26:05.202749Z",
     "start_time": "2021-12-08T06:26:05.197488Z"
    }
   },
   "outputs": [
    {
     "name": "stdout",
     "output_type": "stream",
     "text": [
      "986\n",
      "CPU times: user 693 µs, sys: 125 µs, total: 818 µs\n",
      "Wall time: 824 µs\n"
     ]
    }
   ],
   "source": [
    "%%time\n",
    "ans_2 = 0\n",
    "for line_input in inputs:\n",
    "    digits = line_input[:10]\n",
    "    values = line_input[10:]\n",
    "    for i, value in enumerate(values):\n",
    "        # print(value)\n",
    "        if len(lookup[len(value)]) == 1:\n",
    "            ans_1 += 1\n",
    "            # print(i, value, lookup[len(value)])\n",
    "print(ans_1)"
   ]
  },
  {
   "cell_type": "code",
   "execution_count": 6,
   "id": "fa36c9a6",
   "metadata": {
    "ExecuteTime": {
     "end_time": "2021-12-08T06:26:05.209461Z",
     "start_time": "2021-12-08T06:26:05.204853Z"
    }
   },
   "outputs": [],
   "source": [
    "# wrong path\n",
    "signal_math = {\n",
    "    0: {\"h0\", \"h2\", \"v0\", \"v1\", \"v2\", \"v3\"},\n",
    "    1: {\"v2\", \"v3\"},\n",
    "    2: {\"h0\", \"h1\", \"h2\", \"v2\", \"v1\"},\n",
    "    3: {\"h0\", \"h1\", \"h2\", \"v2\", \"v3\"},\n",
    "    4: {\"v0\", \"v2\", \"v3\", \"h1\"},\n",
    "    5: {\"h0\", \"v0\", \"h1\", \"v3\", \"h2\"},\n",
    "    6: {\"h0\", \"v0\", \"h1\", \"v3\", \"h2\", \"v3\"},\n",
    "    7: {\"h0\", \"v2\", \"v3\"},\n",
    "    8: {\"h0\", \"v0\", \"h1\", \"v3\", \"h2\", \"v1\", \"v2\"},\n",
    "    9: {\"h0\", \"v0\", \"h1\", \"v3\", \"h2\", \"v2\"}\n",
    "}"
   ]
  },
  {
   "cell_type": "code",
   "execution_count": 7,
   "id": "98e96693",
   "metadata": {
    "ExecuteTime": {
     "end_time": "2021-12-08T06:26:05.219958Z",
     "start_time": "2021-12-08T06:26:05.211146Z"
    }
   },
   "outputs": [],
   "source": [
    "def solve(my_map):\n",
    "    \"\"\"Solve the n_digits: letter cobmination set into numbers.\"\"\"\n",
    "    str_to_num = {}\n",
    "    str_to_num[\"\".join(sorted(my_map[3][0]))] = \"7\"\n",
    "    str_to_num[\"\".join(sorted(my_map[2][0]))] = \"1\"\n",
    "    str_to_num[\"\".join(sorted(my_map[7][0]))] = \"8\"\n",
    "    str_to_num[\"\".join(sorted(my_map[4][0]))] = \"4\"\n",
    "    eight_set = my_map[7][0]\n",
    "    for i in my_map[6]:\n",
    "        # print(my_map[2][0].difference(i))\n",
    "        if len(my_map[2][0].difference(i)) == 1:\n",
    "            str_to_num[\"\".join(sorted(i))] = \"6\"\n",
    "            six_set = i\n",
    "    \n",
    "    for i in my_map[5]:\n",
    "        # print(my_map[3][0].difference(i))\n",
    "        if len(my_map[3][0].difference(i)) == 0:\n",
    "            str_to_num[\"\".join(sorted(i))] = \"3\"\n",
    "        # v2 not in it\n",
    "        if len(eight_set.difference(six_set).intersection(i)) == 0:\n",
    "            str_to_num[\"\".join(sorted(i))] = \"5\"\n",
    "            five_set = i\n",
    "    # last one is 2\n",
    "    for i in my_map[5]:\n",
    "        if \"\".join(sorted(i)) not in str_to_num:\n",
    "            str_to_num[\"\".join(sorted(i))] = \"2\"\n",
    "\n",
    "    for i in my_map[6]:\n",
    "        if \"\".join(sorted(i)) not in str_to_num:\n",
    "            if len(six_set.difference(five_set).intersection(i)) == 0:\n",
    "                str_to_num[\"\".join(sorted(i))] = \"9\"\n",
    "            else:\n",
    "                str_to_num[\"\".join(sorted(i))] = \"0\"\n",
    "        \n",
    "    # print(lookup, str_to_num, len(str_to_num))\n",
    "    return str_to_num"
   ]
  },
  {
   "cell_type": "code",
   "execution_count": 8,
   "id": "3d789f4e",
   "metadata": {
    "ExecuteTime": {
     "end_time": "2021-12-08T06:26:05.233223Z",
     "start_time": "2021-12-08T06:26:05.221587Z"
    }
   },
   "outputs": [
    {
     "name": "stdout",
     "output_type": "stream",
     "text": [
      "CPU times: user 6.79 ms, sys: 227 µs, total: 7.01 ms\n",
      "Wall time: 7.12 ms\n"
     ]
    }
   ],
   "source": [
    "%%time\n",
    "from collections import  defaultdict\n",
    "ans_2 = 0\n",
    "for line_input in inputs:\n",
    "    digits = line_input[:10]\n",
    "    # print(digits)\n",
    "    values = line_input[10:]\n",
    "    my_map = defaultdict(list)\n",
    "    for digit in digits:\n",
    "        my_map[len(digit)].append(set(i for i in digit))\n",
    "    \n",
    "    lookup = solve(my_map)\n",
    "    four_digits = \"\"\n",
    "    for i, value in enumerate(values):\n",
    "        four_digits += lookup[value] \n",
    "    ans_2 += int(four_digits)"
   ]
  },
  {
   "cell_type": "code",
   "execution_count": 9,
   "id": "8382ec72",
   "metadata": {
    "ExecuteTime": {
     "end_time": "2021-12-08T06:26:05.246610Z",
     "start_time": "2021-12-08T06:26:05.237021Z"
    }
   },
   "outputs": [
    {
     "data": {
      "text/plain": [
       "1010460"
      ]
     },
     "execution_count": 9,
     "metadata": {},
     "output_type": "execute_result"
    }
   ],
   "source": [
    "ans_2"
   ]
  },
  {
   "cell_type": "code",
   "execution_count": null,
   "id": "2a429f29",
   "metadata": {},
   "outputs": [],
   "source": []
  }
 ],
 "metadata": {
  "kernelspec": {
   "display_name": "Python 3 (ipykernel)",
   "language": "python",
   "name": "python3"
  },
  "language_info": {
   "codemirror_mode": {
    "name": "ipython",
    "version": 3
   },
   "file_extension": ".py",
   "mimetype": "text/x-python",
   "name": "python",
   "nbconvert_exporter": "python",
   "pygments_lexer": "ipython3",
   "version": "3.9.6"
  }
 },
 "nbformat": 4,
 "nbformat_minor": 5
}
