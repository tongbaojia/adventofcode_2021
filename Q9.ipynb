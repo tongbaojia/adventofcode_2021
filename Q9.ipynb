{
 "cells": [
  {
   "cell_type": "markdown",
   "id": "ddcb089e",
   "metadata": {},
   "source": [
    "https://adventofcode.com/2021/day/9"
   ]
  },
  {
   "cell_type": "code",
   "execution_count": 1,
   "id": "c81ffcc8",
   "metadata": {
    "ExecuteTime": {
     "end_time": "2021-12-09T15:29:33.360426Z",
     "start_time": "2021-12-09T15:29:33.356838Z"
    }
   },
   "outputs": [],
   "source": [
    "with open(\"q9_input.txt\", \"r\") as fp:\n",
    "    file_lines = fp.readlines()"
   ]
  },
  {
   "cell_type": "code",
   "execution_count": 2,
   "id": "0275afef",
   "metadata": {
    "ExecuteTime": {
     "end_time": "2021-12-09T15:29:33.367533Z",
     "start_time": "2021-12-09T15:29:33.362390Z"
    }
   },
   "outputs": [],
   "source": [
    "grid = [[int(i) for i in l.strip()] for l in file_lines]"
   ]
  },
  {
   "cell_type": "code",
   "execution_count": 3,
   "id": "8425a6bd",
   "metadata": {
    "ExecuteTime": {
     "end_time": "2021-12-09T15:29:33.373428Z",
     "start_time": "2021-12-09T15:29:33.370537Z"
    }
   },
   "outputs": [],
   "source": [
    "n_rows = len(grid)\n",
    "n_cols = len(grid[0])"
   ]
  },
  {
   "cell_type": "code",
   "execution_count": 4,
   "id": "0977a394",
   "metadata": {
    "ExecuteTime": {
     "end_time": "2021-12-09T15:29:33.381043Z",
     "start_time": "2021-12-09T15:29:33.375524Z"
    }
   },
   "outputs": [],
   "source": [
    "def check_neighbor(i: int, j: int) -> bool:\n",
    "    \"\"\"Check if the index is the local min compared with neighbors.\"\"\"\n",
    "    val = grid[i][j]\n",
    "    for direction in [(1, 0), (0, 1), (-1, 0), (0, -1)]:\n",
    "        new_i, new_j = i + direction[0], j + direction[1]\n",
    "        if 0 <= new_i < n_rows and 0 <= new_j < n_cols:\n",
    "            neighbor_val = grid[new_i][new_j]\n",
    "            if neighbor_val <= val:\n",
    "                return False\n",
    "    return True"
   ]
  },
  {
   "cell_type": "code",
   "execution_count": 5,
   "id": "6be393c4",
   "metadata": {
    "ExecuteTime": {
     "end_time": "2021-12-09T15:29:33.396043Z",
     "start_time": "2021-12-09T15:29:33.382965Z"
    }
   },
   "outputs": [],
   "source": [
    "local_mins = []\n",
    "\n",
    "for i in range(n_rows):\n",
    "    for j in range(n_cols):\n",
    "        if check_neighbor(i, j):\n",
    "            local_mins.append((i, j))"
   ]
  },
  {
   "cell_type": "code",
   "execution_count": 6,
   "id": "fc92672e",
   "metadata": {
    "ExecuteTime": {
     "end_time": "2021-12-09T15:29:33.402214Z",
     "start_time": "2021-12-09T15:29:33.398065Z"
    }
   },
   "outputs": [
    {
     "name": "stdout",
     "output_type": "stream",
     "text": [
      "530\n"
     ]
    }
   ],
   "source": [
    "ans_1 = sum(grid[i][j] for i, j in local_mins) + len(local_mins)\n",
    "print(ans_1)"
   ]
  },
  {
   "cell_type": "code",
   "execution_count": 7,
   "id": "570d474c",
   "metadata": {
    "ExecuteTime": {
     "end_time": "2021-12-09T15:29:33.409253Z",
     "start_time": "2021-12-09T15:29:33.404410Z"
    }
   },
   "outputs": [],
   "source": [
    "def check_neighbor_with_seen(i: int, j: int, seen: set) -> bool:\n",
    "    \"\"\"Check if the index is the local min compared with neighbors.\"\"\"\n",
    "    val = grid[i][j]\n",
    "    for direction in [(1, 0), (0, 1), (-1, 0), (0, -1)]:\n",
    "        new_i, new_j = i + direction[0], j + direction[1]\n",
    "        if 0 <= new_i < n_rows and 0 <= new_j < n_cols and (new_i, new_j) not in seen:\n",
    "            neighbor_val = grid[new_i][new_j]\n",
    "            # ERRRRR, why would this condition be different for part 2!?\n",
    "            # got a wrong answer first, suspected this is the only reason\n",
    "            # if equal it is still counting as basin?!\n",
    "            if neighbor_val < val:\n",
    "                return False\n",
    "    return True"
   ]
  },
  {
   "cell_type": "code",
   "execution_count": 8,
   "id": "5664d703",
   "metadata": {
    "ExecuteTime": {
     "end_time": "2021-12-09T15:29:33.463002Z",
     "start_time": "2021-12-09T15:29:33.411399Z"
    }
   },
   "outputs": [
    {
     "name": "stdout",
     "output_type": "stream",
     "text": [
      "CPU times: user 44.3 ms, sys: 2.05 ms, total: 46.3 ms\n",
      "Wall time: 45.8 ms\n"
     ]
    }
   ],
   "source": [
    "%%time\n",
    "from collections import deque\n",
    "\n",
    "basin_size = [0 for _ in range(len(local_mins))]\n",
    "past_sets = []\n",
    "for k, local_min in enumerate(local_mins):\n",
    "    # print(\"-->\")\n",
    "    q = deque([local_min])\n",
    "    seen = set([local_min])\n",
    "    while q:\n",
    "        i, j = q.popleft()\n",
    "        seen.add((i, j))\n",
    "        # print(seen, q, grid[i][j], i, j)\n",
    "        for direction in [(1, 0), (0, 1), (-1, 0), (0, -1)]:\n",
    "            new_i, new_j = i + direction[0], j + direction[1]\n",
    "            if (\n",
    "                0 <= new_i < n_rows\n",
    "                and 0 <= new_j < n_cols\n",
    "                and (new_i, new_j) not in seen\n",
    "                and check_neighbor_with_seen(new_i, new_j, seen)\n",
    "                # 9 doesn't count\n",
    "                and grid[new_i][new_j] != 9\n",
    "            ):\n",
    "                q.append((new_i, new_j))\n",
    "                seen.add((new_i, new_j))\n",
    "    #     for i, j in sorted(seen):\n",
    "    #         print(i, j, grid[i][j])\n",
    "    basin_size[k] = len(seen)\n",
    "    past_sets.append(seen)"
   ]
  },
  {
   "cell_type": "code",
   "execution_count": 9,
   "id": "f7a21916",
   "metadata": {
    "ExecuteTime": {
     "end_time": "2021-12-09T15:29:33.498977Z",
     "start_time": "2021-12-09T15:29:33.466372Z"
    }
   },
   "outputs": [],
   "source": [
    "# check if there are overlaps (shouldn't)\n",
    "for s in past_sets:\n",
    "    for s2 in past_sets:\n",
    "        if s != s2 and s.intersection(s2):\n",
    "            print(s, s2)"
   ]
  },
  {
   "cell_type": "code",
   "execution_count": 10,
   "id": "50acfe06",
   "metadata": {
    "ExecuteTime": {
     "end_time": "2021-12-09T15:29:33.503834Z",
     "start_time": "2021-12-09T15:29:33.501085Z"
    }
   },
   "outputs": [
    {
     "name": "stdout",
     "output_type": "stream",
     "text": [
      "1019494\n"
     ]
    }
   ],
   "source": [
    "ans_2 = 1\n",
    "for bs in sorted(basin_size, reverse=True)[:3]:\n",
    "    ans_2 *= bs\n",
    "print(ans_2)"
   ]
  },
  {
   "cell_type": "code",
   "execution_count": null,
   "id": "ceb39dd7",
   "metadata": {
    "ExecuteTime": {
     "end_time": "2021-12-09T15:27:35.563264Z",
     "start_time": "2021-12-09T15:27:35.529185Z"
    }
   },
   "outputs": [],
   "source": []
  },
  {
   "cell_type": "code",
   "execution_count": null,
   "id": "bf03df55",
   "metadata": {},
   "outputs": [],
   "source": []
  }
 ],
 "metadata": {
  "kernelspec": {
   "display_name": "Python 3 (ipykernel)",
   "language": "python",
   "name": "python3"
  },
  "language_info": {
   "codemirror_mode": {
    "name": "ipython",
    "version": 3
   },
   "file_extension": ".py",
   "mimetype": "text/x-python",
   "name": "python",
   "nbconvert_exporter": "python",
   "pygments_lexer": "ipython3",
   "version": "3.9.6"
  }
 },
 "nbformat": 4,
 "nbformat_minor": 5
}
